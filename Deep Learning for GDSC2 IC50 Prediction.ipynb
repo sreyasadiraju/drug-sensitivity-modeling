{
 "cells": [
  {
   "cell_type": "code",
   "execution_count": 54,
   "id": "8371dabe-e4d2-4418-9fc3-27a194a1ecc1",
   "metadata": {},
   "outputs": [
    {
     "name": "stdout",
     "output_type": "stream",
     "text": [
      "The autoreload extension is already loaded. To reload it, use:\n",
      "  %reload_ext autoreload\n"
     ]
    }
   ],
   "source": [
    "%load_ext autoreload\n",
    "%autoreload 2"
   ]
  },
  {
   "cell_type": "code",
   "execution_count": 55,
   "id": "2261581f-3bd2-4dc7-a208-441c06b6e5da",
   "metadata": {},
   "outputs": [],
   "source": [
    "import os\n",
    "import sys\n",
    "import random\n",
    "import numpy as np\n",
    "import pandas as pd\n",
    "import pickle as pkl\n",
    "import matplotlib.pyplot as plt\n",
    "import torch\n",
    "from torch import nn\n",
    "from torch.utils.data import Dataset, DataLoader\n",
    "from sklearn.model_selection import train_test_split"
   ]
  },
  {
   "cell_type": "code",
   "execution_count": 56,
   "id": "cd51e1b1-220b-4c47-8f72-6e251c829b38",
   "metadata": {},
   "outputs": [
    {
     "data": {
      "text/plain": [
       "(True, 1)"
      ]
     },
     "execution_count": 56,
     "metadata": {},
     "output_type": "execute_result"
    }
   ],
   "source": [
    "torch.cuda.is_available(), torch.cuda.device_count()"
   ]
  },
  {
   "cell_type": "code",
   "execution_count": 57,
   "id": "889c3f3a-de0e-40a3-be05-4ab021bf1096",
   "metadata": {},
   "outputs": [],
   "source": [
    "ic50_data_path = \"GDSC2_fitted_dose_response_27Oct23.xlsx\"\n",
    "raw_data_path = \"GDSC2_public_raw_data_27Oct23.csv\""
   ]
  },
  {
   "cell_type": "code",
   "execution_count": 58,
   "id": "8c268e50-de22-42f5-94e2-eec46d307aff",
   "metadata": {},
   "outputs": [],
   "source": [
    "ic50_data = pd.read_excel(ic50_data_path)"
   ]
  },
  {
   "cell_type": "code",
   "execution_count": 59,
   "id": "23b8427d-77e6-4e23-909e-d8b3b51c8fff",
   "metadata": {},
   "outputs": [],
   "source": [
    "raw_data = pd.read_csv(raw_data_path)"
   ]
  },
  {
   "cell_type": "code",
   "execution_count": 60,
   "id": "ab6915e4-183c-4c60-b1f5-84a76d8e5a6e",
   "metadata": {},
   "outputs": [],
   "source": [
    "cell_line_names_to_cosmic_ids = {}\n",
    "cosmic_ids_to_cell_line_names = {}\n",
    "\n",
    "for cosmic_id, cell_line_name in zip(ic50_data[\"COSMIC_ID\"].tolist(), ic50_data[\"CELL_LINE_NAME\"].tolist()):\n",
    "    cell_line_names_to_cosmic_ids[cell_line_name] = cosmic_id\n",
    "    cosmic_ids_to_cell_line_names[cosmic_id] = cell_line_name\n",
    "\n",
    "cell_line_names = list(cell_line_names_to_cosmic_ids.keys())\n",
    "cosmic_ids = list(cosmic_ids_to_cell_line_names.keys())\n",
    "\n",
    "for cosmic_id, cell_line_name in zip(ic50_data[\"COSMIC_ID\"].tolist(), ic50_data[\"CELL_LINE_NAME\"].tolist()):\n",
    "    assert cell_line_names_to_cosmic_ids[cell_line_name] == cosmic_id\n",
    "    assert cosmic_ids_to_cell_line_names[cosmic_id] == cell_line_name"
   ]
  },
  {
   "cell_type": "code",
   "execution_count": 61,
   "id": "e21f37f7-8d6b-4a62-8719-4ffbeba3c39c",
   "metadata": {},
   "outputs": [],
   "source": [
    "drug_names_to_drug_ids = {}\n",
    "drug_ids_to_drug_names = {}\n",
    "\n",
    "for drug_id, drug_name in zip(ic50_data[\"DRUG_ID\"].tolist(), ic50_data[\"DRUG_NAME\"].tolist()):\n",
    "    drug_ids_to_drug_names[drug_id] = drug_name\n",
    "\n",
    "drug_names = set(list(drug_ids_to_drug_names.values()))\n",
    "\n",
    "for drug_name in drug_names:\n",
    "    drug_names_to_drug_ids[drug_name] = []\n",
    "\n",
    "for drug_id, drug_name in zip(ic50_data[\"DRUG_ID\"].tolist(), ic50_data[\"DRUG_NAME\"].tolist()):\n",
    "    if not (drug_id in drug_names_to_drug_ids[drug_name]):\n",
    "        drug_names_to_drug_ids[drug_name].append(drug_id)\n",
    "\n",
    "drug_ids = list(drug_ids_to_drug_names.keys())\n",
    "\n",
    "for drug_id, drug_name in zip(ic50_data[\"DRUG_ID\"].tolist(), ic50_data[\"DRUG_NAME\"].tolist()):\n",
    "    assert drug_id in drug_names_to_drug_ids[drug_name]\n",
    "    assert drug_name == drug_ids_to_drug_names[drug_id]"
   ]
  },
  {
   "cell_type": "code",
   "execution_count": 62,
   "id": "385b336c-d06e-4912-b34f-50f8d747fa39",
   "metadata": {},
   "outputs": [],
   "source": [
    "n_cell_lines = len(cell_line_names)\n",
    "n_drugs = len(drug_ids)"
   ]
  },
  {
   "cell_type": "code",
   "execution_count": 63,
   "id": "36cc82c3-16f3-4442-9641-6fa93d9c104c",
   "metadata": {},
   "outputs": [
    {
     "data": {
      "text/plain": [
       "(969, 295)"
      ]
     },
     "execution_count": 63,
     "metadata": {},
     "output_type": "execute_result"
    }
   ],
   "source": [
    "n_cell_lines, n_drugs"
   ]
  },
  {
   "cell_type": "code",
   "execution_count": 118,
   "id": "14f4914e-b2a4-41e3-82ad-7d03fdff12b1",
   "metadata": {},
   "outputs": [],
   "source": [
    "times_sampled = np.zeros((n_cell_lines, n_drugs))\n",
    "\n",
    "for cell_line_name, drug_id in zip(ic50_data[\"CELL_LINE_NAME\"].tolist(), ic50_data[\"DRUG_ID\"].tolist()):\n",
    "    times_sampled[cell_line_names.index(cell_line_name), drug_ids.index(drug_id)] += 1\n",
    "\n",
    "ln_ic50s = np.zeros((n_cell_lines, n_drugs))\n",
    "\n",
    "for cell_line_name, drug_id, ln_ic50 in zip(ic50_data[\"CELL_LINE_NAME\"].tolist(), ic50_data[\"DRUG_ID\"].tolist(), ic50_data[\"LN_IC50\"]):\n",
    "    ln_ic50s[cell_line_names.index(cell_line_name), drug_ids.index(drug_id)] = ln_ic50\n",
    "\n",
    "ln_ic50s[times_sampled == 0] = np.nan\n",
    "for cell_line_name in cell_line_names:\n",
    "    for drug_id in drug_ids:\n",
    "        if np.isnan(ln_ic50s[cell_line_names.index(cell_line_name), drug_ids.index(drug_id)]):\n",
    "            ln_ic50s[cell_line_names.index(cell_line_name), drug_ids.index(drug_id)] = np.nanmean(ln_ic50s[:,drug_ids.index(drug_id)])"
   ]
  },
  {
   "cell_type": "code",
   "execution_count": 120,
   "id": "62be1ad1-fcb6-41b5-ab42-611af16bb25b",
   "metadata": {},
   "outputs": [],
   "source": [
    "raw_data.DRUG_ID = raw_data.DRUG_ID.fillna(-1.0).astype(int)\n",
    "\n",
    "n_drugs_raw = len(set(raw_data.DRUG_ID.tolist())) - 1\n",
    "\n",
    "drug_ids_raw = list(set(raw_data.DRUG_ID.tolist()))\n",
    "cosmic_ids_raw = list(set(raw_data.COSMIC_ID.tolist()))\n",
    "\n",
    "for raw_id in cosmic_ids_raw:\n",
    "  assert raw_id in cosmic_ids\n",
    "for id in cosmic_ids:\n",
    "  assert id in cosmic_ids_raw\n",
    "\n",
    "missing_drug_ids = []\n",
    "\n",
    "for raw_id in drug_ids_raw:\n",
    "  if raw_id > 0 and not (raw_id in drug_ids):\n",
    "    missing_drug_ids.append(raw_id)\n",
    "\n",
    "for id in drug_ids:\n",
    "  assert id in drug_ids_raw"
   ]
  },
  {
   "cell_type": "code",
   "execution_count": 121,
   "id": "c959cc09-3457-48cb-9a60-b14ca04c675a",
   "metadata": {},
   "outputs": [],
   "source": [
    "barcodes = list(set(raw_data[\"BARCODE\"].values))\n",
    "\n",
    "n_barcodes = len(barcodes)"
   ]
  },
  {
   "cell_type": "code",
   "execution_count": 122,
   "id": "5271b37a-236a-4eeb-9a11-9a45954fe0e4",
   "metadata": {},
   "outputs": [
    {
     "data": {
      "text/plain": [
       "16354"
      ]
     },
     "execution_count": 122,
     "metadata": {},
     "output_type": "execute_result"
    }
   ],
   "source": [
    "n_barcodes"
   ]
  },
  {
   "cell_type": "code",
   "execution_count": 123,
   "id": "0a799b99-4828-4b38-a82c-e7817baf5f2c",
   "metadata": {},
   "outputs": [],
   "source": [
    "drug_ids_raw.sort()\n",
    "cosmic_ids.sort()"
   ]
  },
  {
   "cell_type": "code",
   "execution_count": 124,
   "id": "ccb3d290-e408-4328-b260-87c26f624932",
   "metadata": {},
   "outputs": [],
   "source": [
    "def retrieve_dose_intensity_data(cosmic_id, drug_id):\n",
    "    assert cosmic_id in cosmic_ids, \"Invalid COSMIC ID, please try again.\"\n",
    "    assert drug_id in drug_ids_raw, \"Drug ID not present in raw data, please try again.\"\n",
    "    subset = raw_data[(raw_data[\"COSMIC_ID\"] == demo_cosmic_id) & (raw_data[\"DRUG_ID\"] == demo_drug_id)]\n",
    "    subset_barcodes = set(subset[\"BARCODE\"].values)\n",
    "    data = []\n",
    "    for barcode in subset_barcodes:\n",
    "        further_subset = subset[subset[\"BARCODE\"] == barcode]\n",
    "        tags = further_subset[\"TAG\"].values\n",
    "        tags_passed = True\n",
    "        dose_counts = [0] * 7\n",
    "        for i, tag in enumerate(tags):\n",
    "            if i % 7 == 0:\n",
    "                for count in dose_counts: assert count == i // 7, \"Doses not contiguous.\"\n",
    "            split_tag = tag.split(\"-\")\n",
    "            if split_tag[0][0] != 'L' or split_tag[-1] != \"S\":\n",
    "                tags_passed = False\n",
    "                break\n",
    "            dose_counts[int(split_tag[1][1]) - 1] += 1\n",
    "        if not tags_passed: continue\n",
    "        for count in dose_counts:\n",
    "            assert count == dose_counts[0], f\"Doses unevenly sampled for barcode {barcode}!\"\n",
    "        for i in range(dose_counts[0]):\n",
    "            plate_data = {\"barcode\": barcode,\n",
    "                         \"seeding_density\": further_subset[\"SEEDING_DENSITY\"].iloc[0],\n",
    "                         \"dose\": further_subset[\"CONC\"].values[7*i:7*(i+1)],\n",
    "                         \"intensity\": further_subset[\"INTENSITY\"].values[7*i:7*(i+1)],\n",
    "                         \"position\": further_subset[\"POSITION\"].values[7*i:7*(i+1)]}\n",
    "            data.append(plate_data)\n",
    "    return data"
   ]
  },
  {
   "cell_type": "code",
   "execution_count": 125,
   "id": "ca943664-f54b-47e0-a6b8-ff5e661ab2c7",
   "metadata": {},
   "outputs": [],
   "source": [
    "def retrieve_baseline_data(barcode):\n",
    "    assert barcode in barcodes, \"Invalid barcode. Please try again.\"\n",
    "    subset = raw_data[(raw_data[\"BARCODE\"] == barcode) & (raw_data[\"TAG\"] == \"B\")]\n",
    "    plate_data = {\"barcode\": barcode,\n",
    "                 \"seeding_density\": subset[\"SEEDING_DENSITY\"].iloc[0],\n",
    "                 \"intensity\": subset[\"INTENSITY\"].values,\n",
    "                 \"position\": subset[\"POSITION\"].values}\n",
    "    return plate_data"
   ]
  },
  {
   "cell_type": "code",
   "execution_count": 126,
   "id": "aac274f7-048a-4f01-b6e1-5603c44f82a9",
   "metadata": {},
   "outputs": [],
   "source": [
    "def retrieve_untreated_data(barcode):\n",
    "    assert barcode in barcodes, \"Invalid barcode. Please try again.\"\n",
    "    subset_0 = raw_data[(raw_data[\"BARCODE\"] == barcode) & (raw_data[\"TAG\"] == \"NC-0\")]\n",
    "    subset_1 = raw_data[(raw_data[\"BARCODE\"] == barcode) & (raw_data[\"TAG\"] == \"NC-1\")]\n",
    "    assert len(subset_0.index) > 0 and len(subset_1.index) > 0, \"Missing data for either NC-0 or NC-1!\"\n",
    "    plate_data = {\"barcode\": barcode,\n",
    "                 \"seeding_density\": subset_0[\"SEEDING_DENSITY\"].iloc[0],\n",
    "                 \"intensity_0\": subset_0[\"INTENSITY\"].values,\n",
    "                 \"intensity_1\": subset_1[\"INTENSITY\"].values,\n",
    "                 \"position_0\": subset_0[\"POSITION\"].values,\n",
    "                 \"position_1\": subset_1[\"POSITION\"].values}\n",
    "    return plate_data"
   ]
  },
  {
   "cell_type": "code",
   "execution_count": 127,
   "id": "4aaca809-00ed-4258-b460-ab76901b29b1",
   "metadata": {},
   "outputs": [],
   "source": [
    "neg_ctrl_data = np.load(\"neg-ctrl-priors.npz\")"
   ]
  },
  {
   "cell_type": "code",
   "execution_count": 128,
   "id": "1fa239fc-2f19-446b-87a5-a3f691e329e4",
   "metadata": {},
   "outputs": [],
   "source": [
    "pos_ctrl_data = np.load(\"pos-ctrl-priors.npz\")"
   ]
  },
  {
   "cell_type": "code",
   "execution_count": 129,
   "id": "0c9e954a-0639-4a68-83b4-83a14185e8d8",
   "metadata": {},
   "outputs": [
    {
     "data": {
      "text/plain": [
       "(NpzFile 'neg-ctrl-priors.npz' with keys: barcodes, c,\n",
       " NpzFile 'pos-ctrl-priors.npz' with keys: barcodes, a, b, scores)"
      ]
     },
     "execution_count": 129,
     "metadata": {},
     "output_type": "execute_result"
    }
   ],
   "source": [
    "neg_ctrl_data, pos_ctrl_data"
   ]
  },
  {
   "cell_type": "code",
   "execution_count": 130,
   "id": "ea6f8ccb-38fd-4e45-8318-adf76cf93c1a",
   "metadata": {},
   "outputs": [],
   "source": [
    "genomic_feature_matrix = pd.read_csv(\"combined_genetic_features_925.csv\", index_col=0)"
   ]
  },
  {
   "cell_type": "code",
   "execution_count": 131,
   "id": "7b03f0e8-6435-463e-a497-468ab30b922a",
   "metadata": {},
   "outputs": [
    {
     "data": {
      "text/html": [
       "<div>\n",
       "<style scoped>\n",
       "    .dataframe tbody tr th:only-of-type {\n",
       "        vertical-align: middle;\n",
       "    }\n",
       "\n",
       "    .dataframe tbody tr th {\n",
       "        vertical-align: top;\n",
       "    }\n",
       "\n",
       "    .dataframe thead th {\n",
       "        text-align: right;\n",
       "    }\n",
       "</style>\n",
       "<table border=\"1\" class=\"dataframe\">\n",
       "  <thead>\n",
       "    <tr style=\"text-align: right;\">\n",
       "      <th></th>\n",
       "      <th>TP53</th>\n",
       "      <th>NRAS</th>\n",
       "      <th>NOTCH1</th>\n",
       "      <th>TET2</th>\n",
       "      <th>FLT3</th>\n",
       "      <th>PTPN11</th>\n",
       "      <th>NF1</th>\n",
       "      <th>FBXW7</th>\n",
       "      <th>KRAS</th>\n",
       "      <th>PTEN</th>\n",
       "      <th>...</th>\n",
       "      <th>chr8:22422534-22423702</th>\n",
       "      <th>chr6:6007387-6007797</th>\n",
       "      <th>chr5:180017099-180019062</th>\n",
       "      <th>chr11:65408344-65408631</th>\n",
       "      <th>chr16:68676450-68676843</th>\n",
       "      <th>chr17:42092143-42092432</th>\n",
       "      <th>chr20:30192854-30194025</th>\n",
       "      <th>chr3:50604905-50605359</th>\n",
       "      <th>chr4:102711829-102712199</th>\n",
       "      <th>chr5:125930601-125931049</th>\n",
       "    </tr>\n",
       "  </thead>\n",
       "  <tbody>\n",
       "    <tr>\n",
       "      <th>1240121</th>\n",
       "      <td>1</td>\n",
       "      <td>-1</td>\n",
       "      <td>-1</td>\n",
       "      <td>-1</td>\n",
       "      <td>-1</td>\n",
       "      <td>1</td>\n",
       "      <td>-1</td>\n",
       "      <td>-1</td>\n",
       "      <td>-1</td>\n",
       "      <td>-1</td>\n",
       "      <td>...</td>\n",
       "      <td>-1</td>\n",
       "      <td>-1</td>\n",
       "      <td>-1</td>\n",
       "      <td>-1</td>\n",
       "      <td>-1</td>\n",
       "      <td>-1</td>\n",
       "      <td>-1</td>\n",
       "      <td>-1</td>\n",
       "      <td>-1</td>\n",
       "      <td>-1</td>\n",
       "    </tr>\n",
       "    <tr>\n",
       "      <th>1240122</th>\n",
       "      <td>1</td>\n",
       "      <td>-1</td>\n",
       "      <td>-1</td>\n",
       "      <td>-1</td>\n",
       "      <td>-1</td>\n",
       "      <td>-1</td>\n",
       "      <td>-1</td>\n",
       "      <td>1</td>\n",
       "      <td>-1</td>\n",
       "      <td>-1</td>\n",
       "      <td>...</td>\n",
       "      <td>-1</td>\n",
       "      <td>-1</td>\n",
       "      <td>-1</td>\n",
       "      <td>-1</td>\n",
       "      <td>-1</td>\n",
       "      <td>-1</td>\n",
       "      <td>-1</td>\n",
       "      <td>-1</td>\n",
       "      <td>-1</td>\n",
       "      <td>-1</td>\n",
       "    </tr>\n",
       "    <tr>\n",
       "      <th>1240123</th>\n",
       "      <td>1</td>\n",
       "      <td>-1</td>\n",
       "      <td>-1</td>\n",
       "      <td>-1</td>\n",
       "      <td>-1</td>\n",
       "      <td>-1</td>\n",
       "      <td>-1</td>\n",
       "      <td>1</td>\n",
       "      <td>-1</td>\n",
       "      <td>-1</td>\n",
       "      <td>...</td>\n",
       "      <td>-1</td>\n",
       "      <td>-1</td>\n",
       "      <td>-1</td>\n",
       "      <td>-1</td>\n",
       "      <td>-1</td>\n",
       "      <td>-1</td>\n",
       "      <td>-1</td>\n",
       "      <td>-1</td>\n",
       "      <td>-1</td>\n",
       "      <td>-1</td>\n",
       "    </tr>\n",
       "    <tr>\n",
       "      <th>1240125</th>\n",
       "      <td>1</td>\n",
       "      <td>-1</td>\n",
       "      <td>-1</td>\n",
       "      <td>-1</td>\n",
       "      <td>-1</td>\n",
       "      <td>-1</td>\n",
       "      <td>1</td>\n",
       "      <td>-1</td>\n",
       "      <td>-1</td>\n",
       "      <td>-1</td>\n",
       "      <td>...</td>\n",
       "      <td>0</td>\n",
       "      <td>0</td>\n",
       "      <td>0</td>\n",
       "      <td>0</td>\n",
       "      <td>0</td>\n",
       "      <td>0</td>\n",
       "      <td>0</td>\n",
       "      <td>0</td>\n",
       "      <td>0</td>\n",
       "      <td>0</td>\n",
       "    </tr>\n",
       "    <tr>\n",
       "      <th>1240127</th>\n",
       "      <td>1</td>\n",
       "      <td>-1</td>\n",
       "      <td>-1</td>\n",
       "      <td>-1</td>\n",
       "      <td>-1</td>\n",
       "      <td>-1</td>\n",
       "      <td>1</td>\n",
       "      <td>1</td>\n",
       "      <td>-1</td>\n",
       "      <td>1</td>\n",
       "      <td>...</td>\n",
       "      <td>-1</td>\n",
       "      <td>-1</td>\n",
       "      <td>-1</td>\n",
       "      <td>-1</td>\n",
       "      <td>-1</td>\n",
       "      <td>-1</td>\n",
       "      <td>-1</td>\n",
       "      <td>-1</td>\n",
       "      <td>-1</td>\n",
       "      <td>-1</td>\n",
       "    </tr>\n",
       "    <tr>\n",
       "      <th>...</th>\n",
       "      <td>...</td>\n",
       "      <td>...</td>\n",
       "      <td>...</td>\n",
       "      <td>...</td>\n",
       "      <td>...</td>\n",
       "      <td>...</td>\n",
       "      <td>...</td>\n",
       "      <td>...</td>\n",
       "      <td>...</td>\n",
       "      <td>...</td>\n",
       "      <td>...</td>\n",
       "      <td>...</td>\n",
       "      <td>...</td>\n",
       "      <td>...</td>\n",
       "      <td>...</td>\n",
       "      <td>...</td>\n",
       "      <td>...</td>\n",
       "      <td>...</td>\n",
       "      <td>...</td>\n",
       "      <td>...</td>\n",
       "      <td>...</td>\n",
       "    </tr>\n",
       "    <tr>\n",
       "      <th>949179</th>\n",
       "      <td>-1</td>\n",
       "      <td>-1</td>\n",
       "      <td>-1</td>\n",
       "      <td>-1</td>\n",
       "      <td>-1</td>\n",
       "      <td>-1</td>\n",
       "      <td>-1</td>\n",
       "      <td>-1</td>\n",
       "      <td>-1</td>\n",
       "      <td>-1</td>\n",
       "      <td>...</td>\n",
       "      <td>-1</td>\n",
       "      <td>-1</td>\n",
       "      <td>-1</td>\n",
       "      <td>-1</td>\n",
       "      <td>-1</td>\n",
       "      <td>-1</td>\n",
       "      <td>-1</td>\n",
       "      <td>-1</td>\n",
       "      <td>-1</td>\n",
       "      <td>-1</td>\n",
       "    </tr>\n",
       "    <tr>\n",
       "      <th>971773</th>\n",
       "      <td>1</td>\n",
       "      <td>-1</td>\n",
       "      <td>-1</td>\n",
       "      <td>-1</td>\n",
       "      <td>-1</td>\n",
       "      <td>-1</td>\n",
       "      <td>-1</td>\n",
       "      <td>-1</td>\n",
       "      <td>-1</td>\n",
       "      <td>-1</td>\n",
       "      <td>...</td>\n",
       "      <td>0</td>\n",
       "      <td>0</td>\n",
       "      <td>0</td>\n",
       "      <td>0</td>\n",
       "      <td>0</td>\n",
       "      <td>0</td>\n",
       "      <td>0</td>\n",
       "      <td>0</td>\n",
       "      <td>0</td>\n",
       "      <td>0</td>\n",
       "    </tr>\n",
       "    <tr>\n",
       "      <th>971777</th>\n",
       "      <td>-1</td>\n",
       "      <td>1</td>\n",
       "      <td>-1</td>\n",
       "      <td>-1</td>\n",
       "      <td>-1</td>\n",
       "      <td>-1</td>\n",
       "      <td>-1</td>\n",
       "      <td>-1</td>\n",
       "      <td>-1</td>\n",
       "      <td>-1</td>\n",
       "      <td>...</td>\n",
       "      <td>-1</td>\n",
       "      <td>-1</td>\n",
       "      <td>-1</td>\n",
       "      <td>-1</td>\n",
       "      <td>-1</td>\n",
       "      <td>-1</td>\n",
       "      <td>-1</td>\n",
       "      <td>-1</td>\n",
       "      <td>-1</td>\n",
       "      <td>-1</td>\n",
       "    </tr>\n",
       "    <tr>\n",
       "      <th>998184</th>\n",
       "      <td>1</td>\n",
       "      <td>-1</td>\n",
       "      <td>-1</td>\n",
       "      <td>-1</td>\n",
       "      <td>-1</td>\n",
       "      <td>-1</td>\n",
       "      <td>-1</td>\n",
       "      <td>1</td>\n",
       "      <td>-1</td>\n",
       "      <td>1</td>\n",
       "      <td>...</td>\n",
       "      <td>-1</td>\n",
       "      <td>-1</td>\n",
       "      <td>-1</td>\n",
       "      <td>-1</td>\n",
       "      <td>-1</td>\n",
       "      <td>-1</td>\n",
       "      <td>-1</td>\n",
       "      <td>-1</td>\n",
       "      <td>-1</td>\n",
       "      <td>-1</td>\n",
       "    </tr>\n",
       "    <tr>\n",
       "      <th>998189</th>\n",
       "      <td>-1</td>\n",
       "      <td>-1</td>\n",
       "      <td>-1</td>\n",
       "      <td>-1</td>\n",
       "      <td>-1</td>\n",
       "      <td>-1</td>\n",
       "      <td>-1</td>\n",
       "      <td>-1</td>\n",
       "      <td>1</td>\n",
       "      <td>-1</td>\n",
       "      <td>...</td>\n",
       "      <td>-1</td>\n",
       "      <td>-1</td>\n",
       "      <td>-1</td>\n",
       "      <td>-1</td>\n",
       "      <td>-1</td>\n",
       "      <td>-1</td>\n",
       "      <td>-1</td>\n",
       "      <td>-1</td>\n",
       "      <td>-1</td>\n",
       "      <td>-1</td>\n",
       "    </tr>\n",
       "  </tbody>\n",
       "</table>\n",
       "<p>925 rows × 1905 columns</p>\n",
       "</div>"
      ],
      "text/plain": [
       "         TP53  NRAS  NOTCH1  TET2  FLT3  PTPN11  NF1  FBXW7  KRAS  PTEN  ...  \\\n",
       "1240121     1    -1      -1    -1    -1       1   -1     -1    -1    -1  ...   \n",
       "1240122     1    -1      -1    -1    -1      -1   -1      1    -1    -1  ...   \n",
       "1240123     1    -1      -1    -1    -1      -1   -1      1    -1    -1  ...   \n",
       "1240125     1    -1      -1    -1    -1      -1    1     -1    -1    -1  ...   \n",
       "1240127     1    -1      -1    -1    -1      -1    1      1    -1     1  ...   \n",
       "...       ...   ...     ...   ...   ...     ...  ...    ...   ...   ...  ...   \n",
       "949179     -1    -1      -1    -1    -1      -1   -1     -1    -1    -1  ...   \n",
       "971773      1    -1      -1    -1    -1      -1   -1     -1    -1    -1  ...   \n",
       "971777     -1     1      -1    -1    -1      -1   -1     -1    -1    -1  ...   \n",
       "998184      1    -1      -1    -1    -1      -1   -1      1    -1     1  ...   \n",
       "998189     -1    -1      -1    -1    -1      -1   -1     -1     1    -1  ...   \n",
       "\n",
       "         chr8:22422534-22423702  chr6:6007387-6007797  \\\n",
       "1240121                      -1                    -1   \n",
       "1240122                      -1                    -1   \n",
       "1240123                      -1                    -1   \n",
       "1240125                       0                     0   \n",
       "1240127                      -1                    -1   \n",
       "...                         ...                   ...   \n",
       "949179                       -1                    -1   \n",
       "971773                        0                     0   \n",
       "971777                       -1                    -1   \n",
       "998184                       -1                    -1   \n",
       "998189                       -1                    -1   \n",
       "\n",
       "         chr5:180017099-180019062  chr11:65408344-65408631  \\\n",
       "1240121                        -1                       -1   \n",
       "1240122                        -1                       -1   \n",
       "1240123                        -1                       -1   \n",
       "1240125                         0                        0   \n",
       "1240127                        -1                       -1   \n",
       "...                           ...                      ...   \n",
       "949179                         -1                       -1   \n",
       "971773                          0                        0   \n",
       "971777                         -1                       -1   \n",
       "998184                         -1                       -1   \n",
       "998189                         -1                       -1   \n",
       "\n",
       "         chr16:68676450-68676843  chr17:42092143-42092432  \\\n",
       "1240121                       -1                       -1   \n",
       "1240122                       -1                       -1   \n",
       "1240123                       -1                       -1   \n",
       "1240125                        0                        0   \n",
       "1240127                       -1                       -1   \n",
       "...                          ...                      ...   \n",
       "949179                        -1                       -1   \n",
       "971773                         0                        0   \n",
       "971777                        -1                       -1   \n",
       "998184                        -1                       -1   \n",
       "998189                        -1                       -1   \n",
       "\n",
       "         chr20:30192854-30194025  chr3:50604905-50605359  \\\n",
       "1240121                       -1                      -1   \n",
       "1240122                       -1                      -1   \n",
       "1240123                       -1                      -1   \n",
       "1240125                        0                       0   \n",
       "1240127                       -1                      -1   \n",
       "...                          ...                     ...   \n",
       "949179                        -1                      -1   \n",
       "971773                         0                       0   \n",
       "971777                        -1                      -1   \n",
       "998184                        -1                      -1   \n",
       "998189                        -1                      -1   \n",
       "\n",
       "         chr4:102711829-102712199  chr5:125930601-125931049  \n",
       "1240121                        -1                        -1  \n",
       "1240122                        -1                        -1  \n",
       "1240123                        -1                        -1  \n",
       "1240125                         0                         0  \n",
       "1240127                        -1                        -1  \n",
       "...                           ...                       ...  \n",
       "949179                         -1                        -1  \n",
       "971773                          0                         0  \n",
       "971777                         -1                        -1  \n",
       "998184                         -1                        -1  \n",
       "998189                         -1                        -1  \n",
       "\n",
       "[925 rows x 1905 columns]"
      ]
     },
     "execution_count": 131,
     "metadata": {},
     "output_type": "execute_result"
    }
   ],
   "source": [
    "genomic_feature_matrix"
   ]
  },
  {
   "cell_type": "code",
   "execution_count": 132,
   "id": "11262737-a443-45d8-ad5f-cd1b363141d0",
   "metadata": {},
   "outputs": [],
   "source": [
    "cosmic_ids_for_analysis = genomic_feature_matrix.index.values\n",
    "cosmic_ids_for_analysis = np.sort(cosmic_ids_for_analysis)"
   ]
  },
  {
   "cell_type": "code",
   "execution_count": 133,
   "id": "825a6aeb-67b1-4474-9f19-2773f5a311bb",
   "metadata": {},
   "outputs": [],
   "source": [
    "for id in cosmic_ids_for_analysis:\n",
    "    assert id in cosmic_ids"
   ]
  },
  {
   "cell_type": "code",
   "execution_count": 134,
   "id": "afe8f893-06a5-47ba-97c5-9e97ebf44916",
   "metadata": {},
   "outputs": [],
   "source": [
    "genomic_feature_names = genomic_feature_matrix.columns.values.tolist()\n",
    "\n",
    "cg_feature_names = genomic_feature_names[:300]\n",
    "cnv_feature_names = genomic_feature_names[300:300+1227]\n",
    "meth_feature_names = genomic_feature_names[300+1227:]\n",
    "\n",
    "n_features = len(genomic_feature_names)\n",
    "n_cg_features = len(cg_feature_names)\n",
    "n_cnv_features = len(cnv_feature_names)\n",
    "n_meth_features = len(meth_feature_names)"
   ]
  },
  {
   "cell_type": "code",
   "execution_count": 135,
   "id": "6747db79-b879-48c5-94fc-d84a97012160",
   "metadata": {},
   "outputs": [
    {
     "data": {
      "text/plain": [
       "(300, 1227, 378)"
      ]
     },
     "execution_count": 135,
     "metadata": {},
     "output_type": "execute_result"
    }
   ],
   "source": [
    "n_cg_features, n_cnv_features, n_meth_features"
   ]
  },
  {
   "cell_type": "code",
   "execution_count": 136,
   "id": "9ac87570-f1f9-47a2-8fda-62f84f73a7ad",
   "metadata": {},
   "outputs": [],
   "source": [
    "X = torch.Tensor(genomic_feature_matrix.values)"
   ]
  },
  {
   "cell_type": "code",
   "execution_count": 137,
   "id": "6a1aee59-96c2-4a51-bf62-f03fecd775e4",
   "metadata": {},
   "outputs": [
    {
     "data": {
      "text/plain": [
       "torch.Size([925, 1905])"
      ]
     },
     "execution_count": 137,
     "metadata": {},
     "output_type": "execute_result"
    }
   ],
   "source": [
    "X.size()"
   ]
  },
  {
   "cell_type": "code",
   "execution_count": 138,
   "id": "a00dcf24-5bbf-495b-b3d5-f8bf631968aa",
   "metadata": {},
   "outputs": [],
   "source": [
    "y = torch.Tensor(np.array([ln_ic50s[cell_line_names.index(cosmic_ids_to_cell_line_names[cosmic_id]),:] for cosmic_id in cosmic_ids_for_analysis]))"
   ]
  },
  {
   "cell_type": "code",
   "execution_count": 139,
   "id": "96d5f7e3-eb3b-46c7-b69b-3af0f8c4ab10",
   "metadata": {},
   "outputs": [
    {
     "data": {
      "text/plain": [
       "torch.Size([925, 295])"
      ]
     },
     "execution_count": 139,
     "metadata": {},
     "output_type": "execute_result"
    }
   ],
   "source": [
    "y.size()"
   ]
  },
  {
   "cell_type": "code",
   "execution_count": 140,
   "id": "e6976763-0c7e-45ba-9861-48690e0cb42a",
   "metadata": {},
   "outputs": [],
   "source": [
    "y_flat = y.flatten()"
   ]
  },
  {
   "cell_type": "code",
   "execution_count": 141,
   "id": "c125b4ca-9e14-4b1e-b541-50512915eafb",
   "metadata": {},
   "outputs": [
    {
     "data": {
      "text/plain": [
       "tensor([True, True, True, True, True, True, True, True, True, True, True, True,\n",
       "        True, True, True, True, True, True, True, True, True, True, True, True,\n",
       "        True, True, True, True, True, True, True, True, True, True, True, True,\n",
       "        True, True, True, True, True, True, True, True, True, True, True, True,\n",
       "        True, True, True, True, True, True, True, True, True, True, True, True,\n",
       "        True, True, True, True, True, True, True, True, True, True, True, True,\n",
       "        True, True, True, True, True, True, True, True, True, True, True, True,\n",
       "        True, True, True, True, True, True, True, True, True, True, True, True,\n",
       "        True, True, True, True, True, True, True, True, True, True, True, True,\n",
       "        True, True, True, True, True, True, True, True, True, True, True, True,\n",
       "        True, True, True, True, True, True, True, True, True, True, True, True,\n",
       "        True, True, True, True, True, True, True, True, True, True, True, True,\n",
       "        True, True, True, True, True, True, True, True, True, True, True, True,\n",
       "        True, True, True, True, True, True, True, True, True, True, True, True,\n",
       "        True, True, True, True, True, True, True, True, True, True, True, True,\n",
       "        True, True, True, True, True, True, True, True, True, True, True, True,\n",
       "        True, True, True, True, True, True, True, True, True, True, True, True,\n",
       "        True, True, True, True, True, True, True, True, True, True, True, True,\n",
       "        True, True, True, True, True, True, True, True, True, True, True, True,\n",
       "        True, True, True, True, True, True, True, True, True, True, True, True,\n",
       "        True, True, True, True, True, True, True, True, True, True, True, True,\n",
       "        True, True, True, True, True, True, True, True, True, True, True, True,\n",
       "        True, True, True, True, True, True, True, True, True, True, True, True,\n",
       "        True, True, True, True, True, True, True, True, True, True, True, True,\n",
       "        True, True, True, True, True, True, True])"
      ]
     },
     "execution_count": 141,
     "metadata": {},
     "output_type": "execute_result"
    }
   ],
   "source": [
    "y_flat[:295] == y[0]"
   ]
  },
  {
   "cell_type": "code",
   "execution_count": 142,
   "id": "c6552c16-7af3-48b0-aa59-9e6eba8f0c8b",
   "metadata": {},
   "outputs": [
    {
     "data": {
      "text/plain": [
       "torch.Size([925, 295])"
      ]
     },
     "execution_count": 142,
     "metadata": {},
     "output_type": "execute_result"
    }
   ],
   "source": [
    "y.size()\n",
    "# y[i] corr to drug i%295, cell line i//295"
   ]
  },
  {
   "cell_type": "code",
   "execution_count": 143,
   "id": "e29200d7-8a75-478b-8c7c-970f56f1e1eb",
   "metadata": {},
   "outputs": [],
   "source": [
    "indices = np.arange(925*295)"
   ]
  },
  {
   "cell_type": "code",
   "execution_count": 144,
   "id": "8530a642-e94d-4b15-a4c7-b732daa5039f",
   "metadata": {},
   "outputs": [],
   "source": [
    "train_indices, test_indices = train_test_split(indices, test_size=0.20, random_state=42, shuffle=True)"
   ]
  },
  {
   "cell_type": "code",
   "execution_count": 145,
   "id": "0eed924b-7ba3-441f-adc1-d0075a56e250",
   "metadata": {},
   "outputs": [
    {
     "data": {
      "text/plain": [
       "True"
      ]
     },
     "execution_count": 145,
     "metadata": {},
     "output_type": "execute_result"
    }
   ],
   "source": [
    "len(train_indices) == 925*295*4//5"
   ]
  },
  {
   "cell_type": "code",
   "execution_count": 146,
   "id": "8a167e56-76cd-457a-94c8-fd8e8bbaa3e9",
   "metadata": {},
   "outputs": [
    {
     "data": {
      "text/plain": [
       "array([  4537,  44529, 204756, ..., 131932, 146867, 121958])"
      ]
     },
     "execution_count": 146,
     "metadata": {},
     "output_type": "execute_result"
    }
   ],
   "source": [
    "train_indices"
   ]
  },
  {
   "cell_type": "code",
   "execution_count": 147,
   "id": "efa3e3f6-007c-4e6d-9f96-f1d2d8e8dbea",
   "metadata": {},
   "outputs": [],
   "source": [
    "class IC50PredictionDataset(Dataset):\n",
    "\n",
    "    def __init__(self, X, y, train_indices, test_indices, split=\"train\"):\n",
    "        self.X = X\n",
    "        self.y = y\n",
    "        self.train_indices = train_indices\n",
    "        self.test_indices = test_indices\n",
    "        self.split = split\n",
    "\n",
    "    def __len__(self):\n",
    "        return 925*295//5 if self.split == \"test\" else 925*295*4//5\n",
    "\n",
    "    def __getitem__(self, idx):\n",
    "        if self.split == \"train\":\n",
    "            return X[self.train_indices[idx]//295], self.train_indices[idx]%295, self.y[self.train_indices[idx]]\n",
    "        return X[self.test_indices[idx]//295], self.train_indices[idx]%295, self.y[self.test_indices[idx]]\n",
    "        "
   ]
  },
  {
   "cell_type": "code",
   "execution_count": 148,
   "id": "35cbf29c-1eae-4c2b-989a-41d4780f53a2",
   "metadata": {},
   "outputs": [],
   "source": [
    "train_dataset = IC50PredictionDataset(X, y_flat, train_indices, test_indices, split=\"train\")\n",
    "test_dataset = IC50PredictionDataset(X, y_flat, train_indices, test_indices, split=\"test\")"
   ]
  },
  {
   "cell_type": "code",
   "execution_count": 149,
   "id": "dab1bc62-ecc6-4801-b655-87eea0d08b51",
   "metadata": {},
   "outputs": [
    {
     "data": {
      "text/plain": [
       "(218300, 54575)"
      ]
     },
     "execution_count": 149,
     "metadata": {},
     "output_type": "execute_result"
    }
   ],
   "source": [
    "len(train_dataset), len(test_dataset)"
   ]
  },
  {
   "cell_type": "code",
   "execution_count": 150,
   "id": "b09dacd7-5d49-44c1-bd0c-d9b254e7adc3",
   "metadata": {},
   "outputs": [],
   "source": [
    "batch_size = 2500\n",
    "val_batch_size = 925\n",
    "\n",
    "train_dataloader = DataLoader(train_dataset, batch_size=batch_size, shuffle=True, num_workers=4)\n",
    "test_dataloader = DataLoader(test_dataset, batch_size=val_batch_size, shuffle=False, num_workers=2)"
   ]
  },
  {
   "cell_type": "code",
   "execution_count": 151,
   "id": "4acc4177-f754-4a2f-b539-37cbc9a0000e",
   "metadata": {},
   "outputs": [],
   "source": [
    "class NeuralIC50Predictor(nn.Module):\n",
    "\n",
    "    def __init__(self, layers, dropout=0., batch_norm=True, input_dim=n_features, output_dim=1, embed_dim=128):\n",
    "        super().__init__()\n",
    "        all_layers = []\n",
    "        prev_out = input_dim + embed_dim\n",
    "        self.drug_embeddings = nn.Parameter(torch.zeros(n_drugs, embed_dim))\n",
    "        for layer_size in layers:\n",
    "            if dropout > 0.:\n",
    "                all_layers.append(nn.Dropout(dropout))\n",
    "            if batch_norm:\n",
    "                all_layers.append(nn.BatchNorm1d(prev_out))\n",
    "            all_layers.append(nn.Linear(prev_out, layer_size))\n",
    "            all_layers.append(nn.ReLU())\n",
    "            prev_out = layer_size\n",
    "        all_layers.append(nn.Linear(prev_out, output_dim))\n",
    "        self.mlp = nn.Sequential(*all_layers)\n",
    "\n",
    "    def forward(self, x, d):\n",
    "        return self.mlp(torch.cat((x, self.drug_embeddings[d]), dim=1))\n",
    "        "
   ]
  },
  {
   "cell_type": "code",
   "execution_count": 152,
   "id": "a8a459ba-38d8-4e7f-a591-a076d3bdadd6",
   "metadata": {},
   "outputs": [],
   "source": [
    "predictor = NeuralIC50Predictor([100, 100], dropout=0.5, batch_norm=True, embed_dim=128)"
   ]
  },
  {
   "cell_type": "code",
   "execution_count": 153,
   "id": "f34326f8-8baa-41c9-997d-40293b277d87",
   "metadata": {},
   "outputs": [
    {
     "name": "stdout",
     "output_type": "stream",
     "text": [
      "torch.Size([295, 128])\n",
      "torch.Size([2033])\n",
      "torch.Size([2033])\n",
      "torch.Size([1000, 2033])\n",
      "torch.Size([1000])\n",
      "torch.Size([1000])\n",
      "torch.Size([1000])\n",
      "torch.Size([200, 1000])\n",
      "torch.Size([200])\n",
      "torch.Size([200])\n",
      "torch.Size([200])\n",
      "torch.Size([200, 200])\n",
      "torch.Size([200])\n",
      "torch.Size([1, 200])\n",
      "torch.Size([1])\n"
     ]
    }
   ],
   "source": [
    "for param in predictor.parameters():\n",
    "    print(param.data.size())"
   ]
  },
  {
   "cell_type": "code",
   "execution_count": 154,
   "id": "e5624121-111e-4395-8854-d47a8fa05989",
   "metadata": {},
   "outputs": [],
   "source": [
    "lr=1e-3\n",
    "wd=1e-3\n",
    "\n",
    "optimizer = torch.optim.Adam(predictor.parameters(), lr=lr, weight_decay=wd)"
   ]
  },
  {
   "cell_type": "code",
   "execution_count": 155,
   "id": "1f317c1b-f3df-4512-a557-1bf7dfa997d6",
   "metadata": {},
   "outputs": [],
   "source": [
    "loss_fn = torch.nn.MSELoss()"
   ]
  },
  {
   "cell_type": "code",
   "execution_count": 156,
   "id": "4648afa6-b51f-42fc-92d6-4d8da484b76c",
   "metadata": {},
   "outputs": [
    {
     "name": "stdout",
     "output_type": "stream",
     "text": [
      "----STARTING EPOCH 1----\n"
     ]
    },
    {
     "name": "stderr",
     "output_type": "stream",
     "text": [
      "Exception ignored in: \n",
      "<function _MultiProcessingDataLoaderIter.__del__ at 0x2b2dde9ba790>Traceback (most recent call last):\n",
      "  File \"/home/spa2139/.conda/envs/torch1_gpu_exp/lib/python3.9/site-packages/torch/utils/data/dataloader.py\", line 1510, in __del__\n",
      "    self._shutdown_workers()\n",
      "  File \"/home/spa2139/.conda/envs/torch1_gpu_exp/lib/python3.9/site-packages/torch/utils/data/dataloader.py\", line 1493, in _shutdown_workers\n",
      "    if w.is_alive():\n",
      "  File \"/home/spa2139/.conda/envs/torch1_gpu_exp/lib/python3.9/multiprocessing/process.py\", line 160, in is_alive\n",
      "    assert self._parent_pid == os.getpid(), 'can only test a child process'\n",
      "AssertionError: can only test a child process\n",
      "Exception ignored in: <function _MultiProcessingDataLoaderIter.__del__ at 0x2b2dde9ba790>\n",
      "Traceback (most recent call last):\n",
      "  File \"/home/spa2139/.conda/envs/torch1_gpu_exp/lib/python3.9/site-packages/torch/utils/data/dataloader.py\", line 1510, in __del__\n",
      "Exception ignored in: Exception ignored in: <function _MultiProcessingDataLoaderIter.__del__ at 0x2b2dde9ba790><function _MultiProcessingDataLoaderIter.__del__ at 0x2b2dde9ba790>    \n",
      "\n",
      "self._shutdown_workers()Traceback (most recent call last):\n",
      "\n",
      "Traceback (most recent call last):\n",
      "  File \"/home/spa2139/.conda/envs/torch1_gpu_exp/lib/python3.9/site-packages/torch/utils/data/dataloader.py\", line 1510, in __del__\n",
      "  File \"/home/spa2139/.conda/envs/torch1_gpu_exp/lib/python3.9/site-packages/torch/utils/data/dataloader.py\", line 1493, in _shutdown_workers\n",
      "  File \"/home/spa2139/.conda/envs/torch1_gpu_exp/lib/python3.9/site-packages/torch/utils/data/dataloader.py\", line 1510, in __del__\n",
      "            self._shutdown_workers()if w.is_alive():\n",
      "self._shutdown_workers()\n",
      "  File \"/home/spa2139/.conda/envs/torch1_gpu_exp/lib/python3.9/site-packages/torch/utils/data/dataloader.py\", line 1493, in _shutdown_workers\n",
      "  File \"/home/spa2139/.conda/envs/torch1_gpu_exp/lib/python3.9/multiprocessing/process.py\", line 160, in is_alive\n",
      "\n",
      "      File \"/home/spa2139/.conda/envs/torch1_gpu_exp/lib/python3.9/site-packages/torch/utils/data/dataloader.py\", line 1493, in _shutdown_workers\n",
      "if w.is_alive():    \n",
      "      File \"/home/spa2139/.conda/envs/torch1_gpu_exp/lib/python3.9/multiprocessing/process.py\", line 160, in is_alive\n",
      "assert self._parent_pid == os.getpid(), 'can only test a child process'if w.is_alive():\n",
      "\n",
      "    AssertionError  File \"/home/spa2139/.conda/envs/torch1_gpu_exp/lib/python3.9/multiprocessing/process.py\", line 160, in is_alive\n",
      "assert self._parent_pid == os.getpid(), 'can only test a child process': \n",
      "can only test a child processAssertionError\n",
      ":     assert self._parent_pid == os.getpid(), 'can only test a child process'can only test a child process\n",
      "AssertionError: can only test a child process\n",
      "\n"
     ]
    },
    {
     "name": "stdout",
     "output_type": "stream",
     "text": [
      "Epoch 1, step 40, loss 4.9039.\n",
      "Epoch 1, step 80, loss 2.0079.\n",
      "Epoch 1, loss 3.3167.\n",
      "Epoch 1, val loss 10.9522.\n",
      "----STARTING EPOCH 2----\n"
     ]
    },
    {
     "name": "stderr",
     "output_type": "stream",
     "text": [
      "Exception ignored in: <function _MultiProcessingDataLoaderIter.__del__ at 0x2b2dde9ba790>Exception ignored in: <function _MultiProcessingDataLoaderIter.__del__ at 0x2b2dde9ba790>\n",
      "Exception ignored in: \n",
      "Traceback (most recent call last):\n",
      "  File \"/home/spa2139/.conda/envs/torch1_gpu_exp/lib/python3.9/site-packages/torch/utils/data/dataloader.py\", line 1510, in __del__\n",
      "    self._shutdown_workers()<function _MultiProcessingDataLoaderIter.__del__ at 0x2b2dde9ba790>\n",
      "\n",
      "Traceback (most recent call last):\n",
      "  File \"/home/spa2139/.conda/envs/torch1_gpu_exp/lib/python3.9/site-packages/torch/utils/data/dataloader.py\", line 1510, in __del__\n",
      "      File \"/home/spa2139/.conda/envs/torch1_gpu_exp/lib/python3.9/site-packages/torch/utils/data/dataloader.py\", line 1493, in _shutdown_workers\n",
      "self._shutdown_workers()self._shutdown_workers()Traceback (most recent call last):\n",
      "    \n",
      "if w.is_alive():Exception ignored in:   File \"/home/spa2139/.conda/envs/torch1_gpu_exp/lib/python3.9/site-packages/torch/utils/data/dataloader.py\", line 1510, in __del__\n",
      "  File \"/home/spa2139/.conda/envs/torch1_gpu_exp/lib/python3.9/site-packages/torch/utils/data/dataloader.py\", line 1493, in _shutdown_workers\n",
      "<function _MultiProcessingDataLoaderIter.__del__ at 0x2b2dde9ba790>    \n",
      "  File \"/home/spa2139/.conda/envs/torch1_gpu_exp/lib/python3.9/multiprocessing/process.py\", line 160, in is_alive\n",
      "\n",
      "    Traceback (most recent call last):\n",
      "\n",
      "    if w.is_alive():  File \"/home/spa2139/.conda/envs/torch1_gpu_exp/lib/python3.9/site-packages/torch/utils/data/dataloader.py\", line 1510, in __del__\n",
      "assert self._parent_pid == os.getpid(), 'can only test a child process'\n",
      "  File \"/home/spa2139/.conda/envs/torch1_gpu_exp/lib/python3.9/site-packages/torch/utils/data/dataloader.py\", line 1493, in _shutdown_workers\n",
      "\n",
      "    AssertionError      File \"/home/spa2139/.conda/envs/torch1_gpu_exp/lib/python3.9/multiprocessing/process.py\", line 160, in is_alive\n",
      "self._shutdown_workers():     if w.is_alive():\n",
      "assert self._parent_pid == os.getpid(), 'can only test a child process'\n",
      "can only test a child process  File \"/home/spa2139/.conda/envs/torch1_gpu_exp/lib/python3.9/site-packages/torch/utils/data/dataloader.py\", line 1493, in _shutdown_workers\n",
      "  File \"/home/spa2139/.conda/envs/torch1_gpu_exp/lib/python3.9/multiprocessing/process.py\", line 160, in is_alive\n",
      "\n",
      "\n",
      "AssertionError:         assert self._parent_pid == os.getpid(), 'can only test a child process'\n",
      "AssertionError: can only test a child process\n",
      "can only test a child processif w.is_alive():\n",
      "\n",
      "  File \"/home/spa2139/.conda/envs/torch1_gpu_exp/lib/python3.9/multiprocessing/process.py\", line 160, in is_alive\n",
      "    assert self._parent_pid == os.getpid(), 'can only test a child process'\n",
      "AssertionError: can only test a child process\n"
     ]
    },
    {
     "name": "stdout",
     "output_type": "stream",
     "text": [
      "Epoch 2, step 40, loss 1.9530.\n",
      "Epoch 2, step 80, loss 1.9360.\n",
      "Epoch 2, loss 1.9389.\n",
      "Epoch 2, val loss 11.9220.\n",
      "----STARTING EPOCH 3----\n"
     ]
    },
    {
     "name": "stderr",
     "output_type": "stream",
     "text": [
      "Exception ignored in: Exception ignored in: <function _MultiProcessingDataLoaderIter.__del__ at 0x2b2dde9ba790><function _MultiProcessingDataLoaderIter.__del__ at 0x2b2dde9ba790>Traceback (most recent call last):\n",
      "\n",
      "Exception ignored in: Exception ignored in: \n",
      "<function _MultiProcessingDataLoaderIter.__del__ at 0x2b2dde9ba790><function _MultiProcessingDataLoaderIter.__del__ at 0x2b2dde9ba790>Traceback (most recent call last):\n",
      "  File \"/home/spa2139/.conda/envs/torch1_gpu_exp/lib/python3.9/site-packages/torch/utils/data/dataloader.py\", line 1510, in __del__\n",
      "\n",
      "\n",
      "Traceback (most recent call last):\n",
      "  File \"/home/spa2139/.conda/envs/torch1_gpu_exp/lib/python3.9/site-packages/torch/utils/data/dataloader.py\", line 1510, in __del__\n",
      "Traceback (most recent call last):\n",
      "          File \"/home/spa2139/.conda/envs/torch1_gpu_exp/lib/python3.9/site-packages/torch/utils/data/dataloader.py\", line 1510, in __del__\n",
      "self._shutdown_workers()self._shutdown_workers()\n",
      "      File \"/home/spa2139/.conda/envs/torch1_gpu_exp/lib/python3.9/site-packages/torch/utils/data/dataloader.py\", line 1510, in __del__\n",
      "self._shutdown_workers()\n",
      "\n",
      "  File \"/home/spa2139/.conda/envs/torch1_gpu_exp/lib/python3.9/site-packages/torch/utils/data/dataloader.py\", line 1493, in _shutdown_workers\n",
      "      File \"/home/spa2139/.conda/envs/torch1_gpu_exp/lib/python3.9/site-packages/torch/utils/data/dataloader.py\", line 1493, in _shutdown_workers\n",
      "  File \"/home/spa2139/.conda/envs/torch1_gpu_exp/lib/python3.9/site-packages/torch/utils/data/dataloader.py\", line 1493, in _shutdown_workers\n",
      "self._shutdown_workers()        \n",
      "if w.is_alive():if w.is_alive():  File \"/home/spa2139/.conda/envs/torch1_gpu_exp/lib/python3.9/site-packages/torch/utils/data/dataloader.py\", line 1493, in _shutdown_workers\n",
      "\n",
      "\n",
      "      File \"/home/spa2139/.conda/envs/torch1_gpu_exp/lib/python3.9/multiprocessing/process.py\", line 160, in is_alive\n",
      "  File \"/home/spa2139/.conda/envs/torch1_gpu_exp/lib/python3.9/multiprocessing/process.py\", line 160, in is_alive\n",
      "    if w.is_alive():        if w.is_alive():\n",
      "assert self._parent_pid == os.getpid(), 'can only test a child process'assert self._parent_pid == os.getpid(), 'can only test a child process'  File \"/home/spa2139/.conda/envs/torch1_gpu_exp/lib/python3.9/multiprocessing/process.py\", line 160, in is_alive\n",
      "\n",
      "\n",
      "AssertionError\n",
      "  File \"/home/spa2139/.conda/envs/torch1_gpu_exp/lib/python3.9/multiprocessing/process.py\", line 160, in is_alive\n",
      "    assert self._parent_pid == os.getpid(), 'can only test a child process':     can only test a child processAssertionErrorassert self._parent_pid == os.getpid(), 'can only test a child process'\n",
      "\n",
      "AssertionError\n",
      ": can only test a child process\n",
      ": AssertionErrorcan only test a child process: can only test a child process\n",
      "\n"
     ]
    },
    {
     "name": "stdout",
     "output_type": "stream",
     "text": [
      "Epoch 3, step 40, loss 1.9086.\n",
      "Epoch 3, step 80, loss 1.9124.\n",
      "Epoch 3, loss 1.9102.\n",
      "Epoch 3, val loss 12.2974.\n",
      "----STARTING EPOCH 4----\n"
     ]
    },
    {
     "name": "stderr",
     "output_type": "stream",
     "text": [
      "Exception ignored in: <function _MultiProcessingDataLoaderIter.__del__ at 0x2b2dde9ba790>Exception ignored in: <function _MultiProcessingDataLoaderIter.__del__ at 0x2b2dde9ba790>\n",
      "Traceback (most recent call last):\n",
      "\n",
      "  File \"/home/spa2139/.conda/envs/torch1_gpu_exp/lib/python3.9/site-packages/torch/utils/data/dataloader.py\", line 1510, in __del__\n",
      "Traceback (most recent call last):\n",
      "Exception ignored in: Exception ignored in:   File \"/home/spa2139/.conda/envs/torch1_gpu_exp/lib/python3.9/site-packages/torch/utils/data/dataloader.py\", line 1510, in __del__\n",
      "    self._shutdown_workers()<function _MultiProcessingDataLoaderIter.__del__ at 0x2b2dde9ba790>    \n",
      "\n",
      "<function _MultiProcessingDataLoaderIter.__del__ at 0x2b2dde9ba790>self._shutdown_workers()  File \"/home/spa2139/.conda/envs/torch1_gpu_exp/lib/python3.9/site-packages/torch/utils/data/dataloader.py\", line 1493, in _shutdown_workers\n",
      "Traceback (most recent call last):\n",
      "\n",
      "  File \"/home/spa2139/.conda/envs/torch1_gpu_exp/lib/python3.9/site-packages/torch/utils/data/dataloader.py\", line 1510, in __del__\n",
      "\n",
      "      File \"/home/spa2139/.conda/envs/torch1_gpu_exp/lib/python3.9/site-packages/torch/utils/data/dataloader.py\", line 1493, in _shutdown_workers\n",
      "Traceback (most recent call last):\n",
      "  File \"/home/spa2139/.conda/envs/torch1_gpu_exp/lib/python3.9/site-packages/torch/utils/data/dataloader.py\", line 1510, in __del__\n",
      "        if w.is_alive():self._shutdown_workers()    if w.is_alive():\n",
      "\n",
      "\n",
      "  File \"/home/spa2139/.conda/envs/torch1_gpu_exp/lib/python3.9/multiprocessing/process.py\", line 160, in is_alive\n",
      "  File \"/home/spa2139/.conda/envs/torch1_gpu_exp/lib/python3.9/multiprocessing/process.py\", line 160, in is_alive\n",
      "self._shutdown_workers()      File \"/home/spa2139/.conda/envs/torch1_gpu_exp/lib/python3.9/site-packages/torch/utils/data/dataloader.py\", line 1493, in _shutdown_workers\n",
      "\n",
      "assert self._parent_pid == os.getpid(), 'can only test a child process'  File \"/home/spa2139/.conda/envs/torch1_gpu_exp/lib/python3.9/site-packages/torch/utils/data/dataloader.py\", line 1493, in _shutdown_workers\n",
      "    \n",
      "AssertionError        : if w.is_alive():assert self._parent_pid == os.getpid(), 'can only test a child process'can only test a child processif w.is_alive():\n",
      "\n",
      "\n",
      "  File \"/home/spa2139/.conda/envs/torch1_gpu_exp/lib/python3.9/multiprocessing/process.py\", line 160, in is_alive\n",
      "    assert self._parent_pid == os.getpid(), 'can only test a child process'\n",
      "AssertionError  File \"/home/spa2139/.conda/envs/torch1_gpu_exp/lib/python3.9/multiprocessing/process.py\", line 160, in is_alive\n",
      "    assert self._parent_pid == os.getpid(), 'can only test a child process'\n",
      "AssertionError: can only test a child process: can only test a child process\n",
      "\n",
      "\n",
      "AssertionError: can only test a child process\n"
     ]
    },
    {
     "name": "stdout",
     "output_type": "stream",
     "text": [
      "Epoch 4, step 40, loss 1.9044.\n",
      "Epoch 4, step 80, loss 1.8755.\n",
      "Epoch 4, loss 1.8856.\n",
      "Epoch 4, val loss 11.9913.\n",
      "----STARTING EPOCH 5----\n"
     ]
    },
    {
     "name": "stderr",
     "output_type": "stream",
     "text": [
      "Exception ignored in: Exception ignored in: Exception ignored in: <function _MultiProcessingDataLoaderIter.__del__ at 0x2b2dde9ba790><function _MultiProcessingDataLoaderIter.__del__ at 0x2b2dde9ba790><function _MultiProcessingDataLoaderIter.__del__ at 0x2b2dde9ba790>Exception ignored in: \n",
      "<function _MultiProcessingDataLoaderIter.__del__ at 0x2b2dde9ba790>\n",
      "Traceback (most recent call last):\n",
      "Traceback (most recent call last):\n",
      "\n",
      "\n",
      "  File \"/home/spa2139/.conda/envs/torch1_gpu_exp/lib/python3.9/site-packages/torch/utils/data/dataloader.py\", line 1510, in __del__\n",
      "Traceback (most recent call last):\n",
      "Traceback (most recent call last):\n",
      "  File \"/home/spa2139/.conda/envs/torch1_gpu_exp/lib/python3.9/site-packages/torch/utils/data/dataloader.py\", line 1510, in __del__\n",
      "  File \"/home/spa2139/.conda/envs/torch1_gpu_exp/lib/python3.9/site-packages/torch/utils/data/dataloader.py\", line 1510, in __del__\n",
      "  File \"/home/spa2139/.conda/envs/torch1_gpu_exp/lib/python3.9/site-packages/torch/utils/data/dataloader.py\", line 1510, in __del__\n",
      "                self._shutdown_workers()self._shutdown_workers()self._shutdown_workers()self._shutdown_workers()\n",
      "\n",
      "\n",
      "  File \"/home/spa2139/.conda/envs/torch1_gpu_exp/lib/python3.9/site-packages/torch/utils/data/dataloader.py\", line 1493, in _shutdown_workers\n",
      "  File \"/home/spa2139/.conda/envs/torch1_gpu_exp/lib/python3.9/site-packages/torch/utils/data/dataloader.py\", line 1493, in _shutdown_workers\n",
      "\n",
      "  File \"/home/spa2139/.conda/envs/torch1_gpu_exp/lib/python3.9/site-packages/torch/utils/data/dataloader.py\", line 1493, in _shutdown_workers\n",
      "              File \"/home/spa2139/.conda/envs/torch1_gpu_exp/lib/python3.9/site-packages/torch/utils/data/dataloader.py\", line 1493, in _shutdown_workers\n",
      "if w.is_alive():if w.is_alive():\n",
      "if w.is_alive():    \n",
      "\n",
      "if w.is_alive():  File \"/home/spa2139/.conda/envs/torch1_gpu_exp/lib/python3.9/multiprocessing/process.py\", line 160, in is_alive\n",
      "  File \"/home/spa2139/.conda/envs/torch1_gpu_exp/lib/python3.9/multiprocessing/process.py\", line 160, in is_alive\n",
      "\n",
      "  File \"/home/spa2139/.conda/envs/torch1_gpu_exp/lib/python3.9/multiprocessing/process.py\", line 160, in is_alive\n",
      "          File \"/home/spa2139/.conda/envs/torch1_gpu_exp/lib/python3.9/multiprocessing/process.py\", line 160, in is_alive\n",
      "assert self._parent_pid == os.getpid(), 'can only test a child process'assert self._parent_pid == os.getpid(), 'can only test a child process'\n",
      "AssertionError\n",
      ": AssertionErrorcan only test a child process: \n",
      "can only test a child process\n",
      "        assert self._parent_pid == os.getpid(), 'can only test a child process'assert self._parent_pid == os.getpid(), 'can only test a child process'\n",
      "\n",
      "AssertionErrorAssertionError: : can only test a child processcan only test a child process\n",
      "\n"
     ]
    },
    {
     "name": "stdout",
     "output_type": "stream",
     "text": [
      "Epoch 5, step 40, loss 1.8818.\n",
      "Epoch 5, step 80, loss 1.8606.\n",
      "Epoch 5, loss 1.8732.\n",
      "Epoch 5, val loss 11.8058.\n",
      "----STARTING EPOCH 6----\n"
     ]
    },
    {
     "name": "stderr",
     "output_type": "stream",
     "text": [
      "Exception ignored in: Exception ignored in: <function _MultiProcessingDataLoaderIter.__del__ at 0x2b2dde9ba790><function _MultiProcessingDataLoaderIter.__del__ at 0x2b2dde9ba790>\n",
      "\n",
      "Traceback (most recent call last):\n",
      "  File \"/home/spa2139/.conda/envs/torch1_gpu_exp/lib/python3.9/site-packages/torch/utils/data/dataloader.py\", line 1510, in __del__\n",
      "Traceback (most recent call last):\n",
      "  File \"/home/spa2139/.conda/envs/torch1_gpu_exp/lib/python3.9/site-packages/torch/utils/data/dataloader.py\", line 1510, in __del__\n",
      "    self._shutdown_workers()\n",
      "  File \"/home/spa2139/.conda/envs/torch1_gpu_exp/lib/python3.9/site-packages/torch/utils/data/dataloader.py\", line 1493, in _shutdown_workers\n",
      "    if w.is_alive():\n",
      "  File \"/home/spa2139/.conda/envs/torch1_gpu_exp/lib/python3.9/multiprocessing/process.py\", line 160, in is_alive\n",
      "    assert self._parent_pid == os.getpid(), 'can only test a child process'\n",
      "AssertionError:     self._shutdown_workers()\n",
      "  File \"/home/spa2139/.conda/envs/torch1_gpu_exp/lib/python3.9/site-packages/torch/utils/data/dataloader.py\", line 1493, in _shutdown_workers\n",
      "    if w.is_alive():\n",
      "  File \"/home/spa2139/.conda/envs/torch1_gpu_exp/lib/python3.9/multiprocessing/process.py\", line 160, in is_alive\n",
      "can only test a child process    \n",
      "assert self._parent_pid == os.getpid(), 'can only test a child process'\n",
      "AssertionError: can only test a child process\n",
      "Exception ignored in: <function _MultiProcessingDataLoaderIter.__del__ at 0x2b2dde9ba790>\n",
      "Traceback (most recent call last):\n",
      "  File \"/home/spa2139/.conda/envs/torch1_gpu_exp/lib/python3.9/site-packages/torch/utils/data/dataloader.py\", line 1510, in __del__\n",
      "    self._shutdown_workers()\n",
      "  File \"/home/spa2139/.conda/envs/torch1_gpu_exp/lib/python3.9/site-packages/torch/utils/data/dataloader.py\", line 1493, in _shutdown_workers\n",
      "    if w.is_alive():\n",
      "  File \"/home/spa2139/.conda/envs/torch1_gpu_exp/lib/python3.9/multiprocessing/process.py\", line 160, in is_alive\n",
      "    assert self._parent_pid == os.getpid(), 'can only test a child process'\n",
      "AssertionError: can only test a child process\n",
      "Exception ignored in: \n",
      "<function _MultiProcessingDataLoaderIter.__del__ at 0x2b2dde9ba790>Traceback (most recent call last):\n",
      "  File \"/home/spa2139/.conda/envs/torch1_gpu_exp/lib/python3.9/site-packages/torch/utils/data/dataloader.py\", line 1510, in __del__\n",
      "    self._shutdown_workers()\n",
      "  File \"/home/spa2139/.conda/envs/torch1_gpu_exp/lib/python3.9/site-packages/torch/utils/data/dataloader.py\", line 1493, in _shutdown_workers\n",
      "    if w.is_alive():\n",
      "  File \"/home/spa2139/.conda/envs/torch1_gpu_exp/lib/python3.9/multiprocessing/process.py\", line 160, in is_alive\n",
      "    assert self._parent_pid == os.getpid(), 'can only test a child process'\n",
      "AssertionError: can only test a child process\n"
     ]
    },
    {
     "name": "stdout",
     "output_type": "stream",
     "text": [
      "Epoch 6, step 40, loss 1.8394.\n",
      "Epoch 6, step 80, loss 1.8413.\n",
      "Epoch 6, loss 1.8375.\n",
      "Epoch 6, val loss 12.2747.\n",
      "----STARTING EPOCH 7----\n"
     ]
    },
    {
     "name": "stderr",
     "output_type": "stream",
     "text": [
      "Exception ignored in: <function _MultiProcessingDataLoaderIter.__del__ at 0x2b2dde9ba790>Exception ignored in: \n",
      "Exception ignored in: Traceback (most recent call last):\n",
      "<function _MultiProcessingDataLoaderIter.__del__ at 0x2b2dde9ba790>Exception ignored in: <function _MultiProcessingDataLoaderIter.__del__ at 0x2b2dde9ba790>\n",
      "  File \"/home/spa2139/.conda/envs/torch1_gpu_exp/lib/python3.9/site-packages/torch/utils/data/dataloader.py\", line 1510, in __del__\n",
      "<function _MultiProcessingDataLoaderIter.__del__ at 0x2b2dde9ba790>Traceback (most recent call last):\n",
      "\n",
      "\n",
      "  File \"/home/spa2139/.conda/envs/torch1_gpu_exp/lib/python3.9/site-packages/torch/utils/data/dataloader.py\", line 1510, in __del__\n",
      "Traceback (most recent call last):\n",
      "    Traceback (most recent call last):\n",
      "    self._shutdown_workers()  File \"/home/spa2139/.conda/envs/torch1_gpu_exp/lib/python3.9/site-packages/torch/utils/data/dataloader.py\", line 1510, in __del__\n",
      "  File \"/home/spa2139/.conda/envs/torch1_gpu_exp/lib/python3.9/site-packages/torch/utils/data/dataloader.py\", line 1510, in __del__\n",
      "self._shutdown_workers()\n",
      "\n",
      "          File \"/home/spa2139/.conda/envs/torch1_gpu_exp/lib/python3.9/site-packages/torch/utils/data/dataloader.py\", line 1493, in _shutdown_workers\n",
      "self._shutdown_workers()  File \"/home/spa2139/.conda/envs/torch1_gpu_exp/lib/python3.9/site-packages/torch/utils/data/dataloader.py\", line 1493, in _shutdown_workers\n",
      "self._shutdown_workers()\n",
      "        \n",
      "  File \"/home/spa2139/.conda/envs/torch1_gpu_exp/lib/python3.9/site-packages/torch/utils/data/dataloader.py\", line 1493, in _shutdown_workers\n",
      "if w.is_alive():if w.is_alive():  File \"/home/spa2139/.conda/envs/torch1_gpu_exp/lib/python3.9/site-packages/torch/utils/data/dataloader.py\", line 1493, in _shutdown_workers\n",
      "\n",
      "    \n",
      "if w.is_alive():  File \"/home/spa2139/.conda/envs/torch1_gpu_exp/lib/python3.9/multiprocessing/process.py\", line 160, in is_alive\n",
      "      File \"/home/spa2139/.conda/envs/torch1_gpu_exp/lib/python3.9/multiprocessing/process.py\", line 160, in is_alive\n",
      "    \n",
      "assert self._parent_pid == os.getpid(), 'can only test a child process'  File \"/home/spa2139/.conda/envs/torch1_gpu_exp/lib/python3.9/multiprocessing/process.py\", line 160, in is_alive\n",
      "    if w.is_alive():\n",
      "    \n",
      "AssertionErrorassert self._parent_pid == os.getpid(), 'can only test a child process'  File \"/home/spa2139/.conda/envs/torch1_gpu_exp/lib/python3.9/multiprocessing/process.py\", line 160, in is_alive\n",
      "assert self._parent_pid == os.getpid(), 'can only test a child process':     \n",
      "\n",
      "assert self._parent_pid == os.getpid(), 'can only test a child process'AssertionErrorAssertionErrorcan only test a child process\n",
      ": : \n",
      "can only test a child processAssertionError: can only test a child process\n",
      "can only test a child process\n",
      "\n"
     ]
    },
    {
     "name": "stdout",
     "output_type": "stream",
     "text": [
      "Epoch 7, step 40, loss 1.8304.\n",
      "Epoch 7, step 80, loss 1.8200.\n",
      "Epoch 7, loss 1.8264.\n",
      "Epoch 7, val loss 11.9484.\n",
      "----STARTING EPOCH 8----\n"
     ]
    },
    {
     "name": "stderr",
     "output_type": "stream",
     "text": [
      "Exception ignored in: <function _MultiProcessingDataLoaderIter.__del__ at 0x2b2dde9ba790>Exception ignored in: Exception ignored in: \n",
      "Exception ignored in: <function _MultiProcessingDataLoaderIter.__del__ at 0x2b2dde9ba790>Traceback (most recent call last):\n",
      "<function _MultiProcessingDataLoaderIter.__del__ at 0x2b2dde9ba790><function _MultiProcessingDataLoaderIter.__del__ at 0x2b2dde9ba790>  File \"/home/spa2139/.conda/envs/torch1_gpu_exp/lib/python3.9/site-packages/torch/utils/data/dataloader.py\", line 1510, in __del__\n",
      "\n",
      "\n",
      "\n",
      "Traceback (most recent call last):\n",
      "Traceback (most recent call last):\n",
      "  File \"/home/spa2139/.conda/envs/torch1_gpu_exp/lib/python3.9/site-packages/torch/utils/data/dataloader.py\", line 1510, in __del__\n",
      "    Traceback (most recent call last):\n",
      "  File \"/home/spa2139/.conda/envs/torch1_gpu_exp/lib/python3.9/site-packages/torch/utils/data/dataloader.py\", line 1510, in __del__\n",
      "    self._shutdown_workers()  File \"/home/spa2139/.conda/envs/torch1_gpu_exp/lib/python3.9/site-packages/torch/utils/data/dataloader.py\", line 1510, in __del__\n",
      "self._shutdown_workers()    \n",
      "\n",
      "    self._shutdown_workers()  File \"/home/spa2139/.conda/envs/torch1_gpu_exp/lib/python3.9/site-packages/torch/utils/data/dataloader.py\", line 1493, in _shutdown_workers\n",
      "  File \"/home/spa2139/.conda/envs/torch1_gpu_exp/lib/python3.9/site-packages/torch/utils/data/dataloader.py\", line 1493, in _shutdown_workers\n",
      "self._shutdown_workers()\n",
      "\n",
      "          File \"/home/spa2139/.conda/envs/torch1_gpu_exp/lib/python3.9/site-packages/torch/utils/data/dataloader.py\", line 1493, in _shutdown_workers\n",
      "  File \"/home/spa2139/.conda/envs/torch1_gpu_exp/lib/python3.9/site-packages/torch/utils/data/dataloader.py\", line 1493, in _shutdown_workers\n",
      "if w.is_alive():if w.is_alive():    \n",
      "\n",
      "  File \"/home/spa2139/.conda/envs/torch1_gpu_exp/lib/python3.9/multiprocessing/process.py\", line 160, in is_alive\n",
      "if w.is_alive():  File \"/home/spa2139/.conda/envs/torch1_gpu_exp/lib/python3.9/multiprocessing/process.py\", line 160, in is_alive\n",
      "\n",
      "      File \"/home/spa2139/.conda/envs/torch1_gpu_exp/lib/python3.9/multiprocessing/process.py\", line 160, in is_alive\n",
      "    assert self._parent_pid == os.getpid(), 'can only test a child process'        \n",
      "assert self._parent_pid == os.getpid(), 'can only test a child process'AssertionErrorassert self._parent_pid == os.getpid(), 'can only test a child process': if w.is_alive():\n",
      "can only test a child processAssertionError\n",
      "\n",
      "\n",
      "  File \"/home/spa2139/.conda/envs/torch1_gpu_exp/lib/python3.9/multiprocessing/process.py\", line 160, in is_alive\n",
      "    assert self._parent_pid == os.getpid(), 'can only test a child process'\n",
      "AssertionError: can only test a child process\n",
      ": AssertionErrorcan only test a child process: can only test a child process\n",
      "\n"
     ]
    },
    {
     "name": "stdout",
     "output_type": "stream",
     "text": [
      "Epoch 8, step 40, loss 1.8058.\n",
      "Epoch 8, step 80, loss 1.7978.\n",
      "Epoch 8, loss 1.7962.\n",
      "Epoch 8, val loss 12.0007.\n",
      "----STARTING EPOCH 9----\n"
     ]
    },
    {
     "name": "stderr",
     "output_type": "stream",
     "text": [
      "Exception ignored in: <function _MultiProcessingDataLoaderIter.__del__ at 0x2b2dde9ba790>Exception ignored in: \n",
      "<function _MultiProcessingDataLoaderIter.__del__ at 0x2b2dde9ba790>Traceback (most recent call last):\n",
      "Exception ignored in: \n",
      "  File \"/home/spa2139/.conda/envs/torch1_gpu_exp/lib/python3.9/site-packages/torch/utils/data/dataloader.py\", line 1510, in __del__\n",
      "Exception ignored in: <function _MultiProcessingDataLoaderIter.__del__ at 0x2b2dde9ba790><function _MultiProcessingDataLoaderIter.__del__ at 0x2b2dde9ba790>Traceback (most recent call last):\n",
      "      File \"/home/spa2139/.conda/envs/torch1_gpu_exp/lib/python3.9/site-packages/torch/utils/data/dataloader.py\", line 1510, in __del__\n",
      "\n",
      "\n",
      "Traceback (most recent call last):\n",
      "self._shutdown_workers()  File \"/home/spa2139/.conda/envs/torch1_gpu_exp/lib/python3.9/site-packages/torch/utils/data/dataloader.py\", line 1510, in __del__\n",
      "Traceback (most recent call last):\n",
      "    \n",
      "  File \"/home/spa2139/.conda/envs/torch1_gpu_exp/lib/python3.9/site-packages/torch/utils/data/dataloader.py\", line 1493, in _shutdown_workers\n",
      "      File \"/home/spa2139/.conda/envs/torch1_gpu_exp/lib/python3.9/site-packages/torch/utils/data/dataloader.py\", line 1510, in __del__\n",
      "self._shutdown_workers()    self._shutdown_workers()\n",
      "    if w.is_alive():\n",
      "  File \"/home/spa2139/.conda/envs/torch1_gpu_exp/lib/python3.9/site-packages/torch/utils/data/dataloader.py\", line 1493, in _shutdown_workers\n",
      "\n",
      "self._shutdown_workers()\n",
      "      File \"/home/spa2139/.conda/envs/torch1_gpu_exp/lib/python3.9/site-packages/torch/utils/data/dataloader.py\", line 1493, in _shutdown_workers\n",
      "  File \"/home/spa2139/.conda/envs/torch1_gpu_exp/lib/python3.9/multiprocessing/process.py\", line 160, in is_alive\n",
      "  File \"/home/spa2139/.conda/envs/torch1_gpu_exp/lib/python3.9/site-packages/torch/utils/data/dataloader.py\", line 1493, in _shutdown_workers\n",
      "if w.is_alive():        assert self._parent_pid == os.getpid(), 'can only test a child process'\n",
      "    \n",
      "if w.is_alive():if w.is_alive():  File \"/home/spa2139/.conda/envs/torch1_gpu_exp/lib/python3.9/multiprocessing/process.py\", line 160, in is_alive\n",
      "\n",
      "AssertionError\n",
      "  File \"/home/spa2139/.conda/envs/torch1_gpu_exp/lib/python3.9/multiprocessing/process.py\", line 160, in is_alive\n",
      "  File \"/home/spa2139/.conda/envs/torch1_gpu_exp/lib/python3.9/multiprocessing/process.py\", line 160, in is_alive\n",
      "        : assert self._parent_pid == os.getpid(), 'can only test a child process'assert self._parent_pid == os.getpid(), 'can only test a child process'can only test a child process\n",
      "\n",
      "    \n",
      "AssertionError: can only test a child processassert self._parent_pid == os.getpid(), 'can only test a child process'AssertionError: can only test a child process\n",
      "\n",
      "\n",
      "AssertionError: can only test a child process\n"
     ]
    },
    {
     "name": "stdout",
     "output_type": "stream",
     "text": [
      "Epoch 9, step 40, loss 1.7806.\n",
      "Epoch 9, step 80, loss 1.7645.\n",
      "Epoch 9, loss 1.7738.\n",
      "Epoch 9, val loss 12.0802.\n",
      "----STARTING EPOCH 10----\n"
     ]
    },
    {
     "name": "stderr",
     "output_type": "stream",
     "text": [
      "Exception ignored in: Exception ignored in: <function _MultiProcessingDataLoaderIter.__del__ at 0x2b2dde9ba790><function _MultiProcessingDataLoaderIter.__del__ at 0x2b2dde9ba790>\n",
      "\n",
      "Exception ignored in: <function _MultiProcessingDataLoaderIter.__del__ at 0x2b2dde9ba790>Traceback (most recent call last):\n",
      "Traceback (most recent call last):\n",
      "Exception ignored in: \n",
      "  File \"/home/spa2139/.conda/envs/torch1_gpu_exp/lib/python3.9/site-packages/torch/utils/data/dataloader.py\", line 1510, in __del__\n",
      "<function _MultiProcessingDataLoaderIter.__del__ at 0x2b2dde9ba790>Traceback (most recent call last):\n",
      "  File \"/home/spa2139/.conda/envs/torch1_gpu_exp/lib/python3.9/site-packages/torch/utils/data/dataloader.py\", line 1510, in __del__\n",
      "\n",
      "  File \"/home/spa2139/.conda/envs/torch1_gpu_exp/lib/python3.9/site-packages/torch/utils/data/dataloader.py\", line 1510, in __del__\n",
      "Traceback (most recent call last):\n",
      "        self._shutdown_workers()    self._shutdown_workers()  File \"/home/spa2139/.conda/envs/torch1_gpu_exp/lib/python3.9/site-packages/torch/utils/data/dataloader.py\", line 1510, in __del__\n",
      "\n",
      "  File \"/home/spa2139/.conda/envs/torch1_gpu_exp/lib/python3.9/site-packages/torch/utils/data/dataloader.py\", line 1493, in _shutdown_workers\n",
      "\n",
      "self._shutdown_workers()        \n",
      "  File \"/home/spa2139/.conda/envs/torch1_gpu_exp/lib/python3.9/site-packages/torch/utils/data/dataloader.py\", line 1493, in _shutdown_workers\n",
      "self._shutdown_workers()  File \"/home/spa2139/.conda/envs/torch1_gpu_exp/lib/python3.9/site-packages/torch/utils/data/dataloader.py\", line 1493, in _shutdown_workers\n",
      "\n",
      "    if w.is_alive():  File \"/home/spa2139/.conda/envs/torch1_gpu_exp/lib/python3.9/site-packages/torch/utils/data/dataloader.py\", line 1493, in _shutdown_workers\n",
      "if w.is_alive():\n",
      "        \n",
      "  File \"/home/spa2139/.conda/envs/torch1_gpu_exp/lib/python3.9/multiprocessing/process.py\", line 160, in is_alive\n",
      "if w.is_alive():if w.is_alive():  File \"/home/spa2139/.conda/envs/torch1_gpu_exp/lib/python3.9/multiprocessing/process.py\", line 160, in is_alive\n",
      "\n",
      "\n",
      "  File \"/home/spa2139/.conda/envs/torch1_gpu_exp/lib/python3.9/multiprocessing/process.py\", line 160, in is_alive\n",
      "          File \"/home/spa2139/.conda/envs/torch1_gpu_exp/lib/python3.9/multiprocessing/process.py\", line 160, in is_alive\n",
      "assert self._parent_pid == os.getpid(), 'can only test a child process'\n",
      "assert self._parent_pid == os.getpid(), 'can only test a child process'AssertionError        \n",
      "assert self._parent_pid == os.getpid(), 'can only test a child process'assert self._parent_pid == os.getpid(), 'can only test a child process'AssertionError: \n",
      "AssertionErrorcan only test a child process: \n",
      ": can only test a child process\n",
      "\n",
      "can only test a child processAssertionError: \n",
      "can only test a child process\n"
     ]
    },
    {
     "name": "stdout",
     "output_type": "stream",
     "text": [
      "Epoch 10, step 40, loss 1.7559.\n",
      "Epoch 10, step 80, loss 1.7548.\n",
      "Epoch 10, loss 1.7606.\n",
      "Epoch 10, val loss 11.8871.\n",
      "----STARTING EPOCH 11----\n"
     ]
    },
    {
     "name": "stderr",
     "output_type": "stream",
     "text": [
      "Exception ignored in: Exception ignored in: Exception ignored in: Exception ignored in: <function _MultiProcessingDataLoaderIter.__del__ at 0x2b2dde9ba790><function _MultiProcessingDataLoaderIter.__del__ at 0x2b2dde9ba790><function _MultiProcessingDataLoaderIter.__del__ at 0x2b2dde9ba790><function _MultiProcessingDataLoaderIter.__del__ at 0x2b2dde9ba790>\n",
      "\n",
      "\n",
      "\n",
      "Traceback (most recent call last):\n",
      "Traceback (most recent call last):\n",
      "Traceback (most recent call last):\n",
      "  File \"/home/spa2139/.conda/envs/torch1_gpu_exp/lib/python3.9/site-packages/torch/utils/data/dataloader.py\", line 1510, in __del__\n",
      "  File \"/home/spa2139/.conda/envs/torch1_gpu_exp/lib/python3.9/site-packages/torch/utils/data/dataloader.py\", line 1510, in __del__\n",
      "  File \"/home/spa2139/.conda/envs/torch1_gpu_exp/lib/python3.9/site-packages/torch/utils/data/dataloader.py\", line 1510, in __del__\n",
      "Traceback (most recent call last):\n",
      "        self._shutdown_workers()      File \"/home/spa2139/.conda/envs/torch1_gpu_exp/lib/python3.9/site-packages/torch/utils/data/dataloader.py\", line 1510, in __del__\n",
      "self._shutdown_workers()self._shutdown_workers()\n",
      "\n",
      "    \n",
      "  File \"/home/spa2139/.conda/envs/torch1_gpu_exp/lib/python3.9/site-packages/torch/utils/data/dataloader.py\", line 1493, in _shutdown_workers\n",
      "  File \"/home/spa2139/.conda/envs/torch1_gpu_exp/lib/python3.9/site-packages/torch/utils/data/dataloader.py\", line 1493, in _shutdown_workers\n",
      "self._shutdown_workers()  File \"/home/spa2139/.conda/envs/torch1_gpu_exp/lib/python3.9/site-packages/torch/utils/data/dataloader.py\", line 1493, in _shutdown_workers\n",
      "        if w.is_alive():\n",
      "    if w.is_alive():\n",
      "\n",
      "  File \"/home/spa2139/.conda/envs/torch1_gpu_exp/lib/python3.9/site-packages/torch/utils/data/dataloader.py\", line 1493, in _shutdown_workers\n",
      "if w.is_alive():\n",
      "  File \"/home/spa2139/.conda/envs/torch1_gpu_exp/lib/python3.9/multiprocessing/process.py\", line 160, in is_alive\n",
      "  File \"/home/spa2139/.conda/envs/torch1_gpu_exp/lib/python3.9/multiprocessing/process.py\", line 160, in is_alive\n",
      "  File \"/home/spa2139/.conda/envs/torch1_gpu_exp/lib/python3.9/multiprocessing/process.py\", line 160, in is_alive\n",
      "                assert self._parent_pid == os.getpid(), 'can only test a child process'assert self._parent_pid == os.getpid(), 'can only test a child process'if w.is_alive():assert self._parent_pid == os.getpid(), 'can only test a child process'\n",
      "\n",
      "\n",
      "AssertionError\n",
      "  File \"/home/spa2139/.conda/envs/torch1_gpu_exp/lib/python3.9/multiprocessing/process.py\", line 160, in is_alive\n",
      "AssertionError: AssertionError:     : can only test a child processcan only test a child processcan only test a child process\n",
      "assert self._parent_pid == os.getpid(), 'can only test a child process'\n",
      "\n",
      "\n",
      "AssertionError: can only test a child process\n"
     ]
    },
    {
     "name": "stdout",
     "output_type": "stream",
     "text": [
      "Epoch 11, step 40, loss 1.7352.\n",
      "Epoch 11, step 80, loss 1.7284.\n",
      "Epoch 11, loss 1.7303.\n",
      "Epoch 11, val loss 11.6784.\n",
      "----STARTING EPOCH 12----\n"
     ]
    },
    {
     "ename": "KeyboardInterrupt",
     "evalue": "",
     "output_type": "error",
     "traceback": [
      "\u001b[0;31m---------------------------------------------------------------------------\u001b[0m",
      "\u001b[0;31mKeyboardInterrupt\u001b[0m                         Traceback (most recent call last)",
      "Cell \u001b[0;32mIn[156], line 19\u001b[0m\n\u001b[1;32m     16\u001b[0m log_loss \u001b[38;5;241m=\u001b[39m \u001b[38;5;241m0.\u001b[39m\n\u001b[1;32m     18\u001b[0m \u001b[38;5;28mprint\u001b[39m(\u001b[38;5;124mf\u001b[39m\u001b[38;5;124m\"\u001b[39m\u001b[38;5;124m----STARTING EPOCH \u001b[39m\u001b[38;5;132;01m{\u001b[39;00mn\u001b[38;5;241m+\u001b[39m\u001b[38;5;241m1\u001b[39m\u001b[38;5;132;01m}\u001b[39;00m\u001b[38;5;124m----\u001b[39m\u001b[38;5;124m\"\u001b[39m)\n\u001b[0;32m---> 19\u001b[0m \u001b[38;5;28;01mfor\u001b[39;00m i, (X_, d_, y_) \u001b[38;5;129;01min\u001b[39;00m \u001b[38;5;28menumerate\u001b[39m(train_dataloader):\n\u001b[1;32m     21\u001b[0m     X_ \u001b[38;5;241m=\u001b[39m X_\u001b[38;5;241m.\u001b[39mcuda()\n\u001b[1;32m     22\u001b[0m     d_ \u001b[38;5;241m=\u001b[39m d_\u001b[38;5;241m.\u001b[39mcuda()\n",
      "File \u001b[0;32m~/.conda/envs/torch1_gpu_exp/lib/python3.9/site-packages/torch/utils/data/dataloader.py:681\u001b[0m, in \u001b[0;36m_BaseDataLoaderIter.__next__\u001b[0;34m(self)\u001b[0m\n\u001b[1;32m    678\u001b[0m \u001b[38;5;28;01mif\u001b[39;00m \u001b[38;5;28mself\u001b[39m\u001b[38;5;241m.\u001b[39m_sampler_iter \u001b[38;5;129;01mis\u001b[39;00m \u001b[38;5;28;01mNone\u001b[39;00m:\n\u001b[1;32m    679\u001b[0m     \u001b[38;5;66;03m# TODO(https://github.com/pytorch/pytorch/issues/76750)\u001b[39;00m\n\u001b[1;32m    680\u001b[0m     \u001b[38;5;28mself\u001b[39m\u001b[38;5;241m.\u001b[39m_reset()  \u001b[38;5;66;03m# type: ignore[call-arg]\u001b[39;00m\n\u001b[0;32m--> 681\u001b[0m data \u001b[38;5;241m=\u001b[39m \u001b[38;5;28;43mself\u001b[39;49m\u001b[38;5;241;43m.\u001b[39;49m\u001b[43m_next_data\u001b[49m\u001b[43m(\u001b[49m\u001b[43m)\u001b[49m\n\u001b[1;32m    682\u001b[0m \u001b[38;5;28mself\u001b[39m\u001b[38;5;241m.\u001b[39m_num_yielded \u001b[38;5;241m+\u001b[39m\u001b[38;5;241m=\u001b[39m \u001b[38;5;241m1\u001b[39m\n\u001b[1;32m    683\u001b[0m \u001b[38;5;28;01mif\u001b[39;00m \u001b[38;5;28mself\u001b[39m\u001b[38;5;241m.\u001b[39m_dataset_kind \u001b[38;5;241m==\u001b[39m _DatasetKind\u001b[38;5;241m.\u001b[39mIterable \u001b[38;5;129;01mand\u001b[39;00m \\\n\u001b[1;32m    684\u001b[0m         \u001b[38;5;28mself\u001b[39m\u001b[38;5;241m.\u001b[39m_IterableDataset_len_called \u001b[38;5;129;01mis\u001b[39;00m \u001b[38;5;129;01mnot\u001b[39;00m \u001b[38;5;28;01mNone\u001b[39;00m \u001b[38;5;129;01mand\u001b[39;00m \\\n\u001b[1;32m    685\u001b[0m         \u001b[38;5;28mself\u001b[39m\u001b[38;5;241m.\u001b[39m_num_yielded \u001b[38;5;241m>\u001b[39m \u001b[38;5;28mself\u001b[39m\u001b[38;5;241m.\u001b[39m_IterableDataset_len_called:\n",
      "File \u001b[0;32m~/.conda/envs/torch1_gpu_exp/lib/python3.9/site-packages/torch/utils/data/dataloader.py:1359\u001b[0m, in \u001b[0;36m_MultiProcessingDataLoaderIter._next_data\u001b[0;34m(self)\u001b[0m\n\u001b[1;32m   1356\u001b[0m     \u001b[38;5;28;01mreturn\u001b[39;00m \u001b[38;5;28mself\u001b[39m\u001b[38;5;241m.\u001b[39m_process_data(data)\n\u001b[1;32m   1358\u001b[0m \u001b[38;5;28;01massert\u001b[39;00m \u001b[38;5;129;01mnot\u001b[39;00m \u001b[38;5;28mself\u001b[39m\u001b[38;5;241m.\u001b[39m_shutdown \u001b[38;5;129;01mand\u001b[39;00m \u001b[38;5;28mself\u001b[39m\u001b[38;5;241m.\u001b[39m_tasks_outstanding \u001b[38;5;241m>\u001b[39m \u001b[38;5;241m0\u001b[39m\n\u001b[0;32m-> 1359\u001b[0m idx, data \u001b[38;5;241m=\u001b[39m \u001b[38;5;28;43mself\u001b[39;49m\u001b[38;5;241;43m.\u001b[39;49m\u001b[43m_get_data\u001b[49m\u001b[43m(\u001b[49m\u001b[43m)\u001b[49m\n\u001b[1;32m   1360\u001b[0m \u001b[38;5;28mself\u001b[39m\u001b[38;5;241m.\u001b[39m_tasks_outstanding \u001b[38;5;241m-\u001b[39m\u001b[38;5;241m=\u001b[39m \u001b[38;5;241m1\u001b[39m\n\u001b[1;32m   1361\u001b[0m \u001b[38;5;28;01mif\u001b[39;00m \u001b[38;5;28mself\u001b[39m\u001b[38;5;241m.\u001b[39m_dataset_kind \u001b[38;5;241m==\u001b[39m _DatasetKind\u001b[38;5;241m.\u001b[39mIterable:\n\u001b[1;32m   1362\u001b[0m     \u001b[38;5;66;03m# Check for _IterableDatasetStopIteration\u001b[39;00m\n",
      "File \u001b[0;32m~/.conda/envs/torch1_gpu_exp/lib/python3.9/site-packages/torch/utils/data/dataloader.py:1325\u001b[0m, in \u001b[0;36m_MultiProcessingDataLoaderIter._get_data\u001b[0;34m(self)\u001b[0m\n\u001b[1;32m   1321\u001b[0m     \u001b[38;5;66;03m# In this case, `self._data_queue` is a `queue.Queue`,. But we don't\u001b[39;00m\n\u001b[1;32m   1322\u001b[0m     \u001b[38;5;66;03m# need to call `.task_done()` because we don't use `.join()`.\u001b[39;00m\n\u001b[1;32m   1323\u001b[0m \u001b[38;5;28;01melse\u001b[39;00m:\n\u001b[1;32m   1324\u001b[0m     \u001b[38;5;28;01mwhile\u001b[39;00m \u001b[38;5;28;01mTrue\u001b[39;00m:\n\u001b[0;32m-> 1325\u001b[0m         success, data \u001b[38;5;241m=\u001b[39m \u001b[38;5;28;43mself\u001b[39;49m\u001b[38;5;241;43m.\u001b[39;49m\u001b[43m_try_get_data\u001b[49m\u001b[43m(\u001b[49m\u001b[43m)\u001b[49m\n\u001b[1;32m   1326\u001b[0m         \u001b[38;5;28;01mif\u001b[39;00m success:\n\u001b[1;32m   1327\u001b[0m             \u001b[38;5;28;01mreturn\u001b[39;00m data\n",
      "File \u001b[0;32m~/.conda/envs/torch1_gpu_exp/lib/python3.9/site-packages/torch/utils/data/dataloader.py:1163\u001b[0m, in \u001b[0;36m_MultiProcessingDataLoaderIter._try_get_data\u001b[0;34m(self, timeout)\u001b[0m\n\u001b[1;32m   1150\u001b[0m \u001b[38;5;28;01mdef\u001b[39;00m \u001b[38;5;21m_try_get_data\u001b[39m(\u001b[38;5;28mself\u001b[39m, timeout\u001b[38;5;241m=\u001b[39m_utils\u001b[38;5;241m.\u001b[39mMP_STATUS_CHECK_INTERVAL):\n\u001b[1;32m   1151\u001b[0m     \u001b[38;5;66;03m# Tries to fetch data from `self._data_queue` once for a given timeout.\u001b[39;00m\n\u001b[1;32m   1152\u001b[0m     \u001b[38;5;66;03m# This can also be used as inner loop of fetching without timeout, with\u001b[39;00m\n\u001b[0;32m   (...)\u001b[0m\n\u001b[1;32m   1160\u001b[0m     \u001b[38;5;66;03m# Returns a 2-tuple:\u001b[39;00m\n\u001b[1;32m   1161\u001b[0m     \u001b[38;5;66;03m#   (bool: whether successfully get data, any: data if successful else None)\u001b[39;00m\n\u001b[1;32m   1162\u001b[0m     \u001b[38;5;28;01mtry\u001b[39;00m:\n\u001b[0;32m-> 1163\u001b[0m         data \u001b[38;5;241m=\u001b[39m \u001b[38;5;28;43mself\u001b[39;49m\u001b[38;5;241;43m.\u001b[39;49m\u001b[43m_data_queue\u001b[49m\u001b[38;5;241;43m.\u001b[39;49m\u001b[43mget\u001b[49m\u001b[43m(\u001b[49m\u001b[43mtimeout\u001b[49m\u001b[38;5;241;43m=\u001b[39;49m\u001b[43mtimeout\u001b[49m\u001b[43m)\u001b[49m\n\u001b[1;32m   1164\u001b[0m         \u001b[38;5;28;01mreturn\u001b[39;00m (\u001b[38;5;28;01mTrue\u001b[39;00m, data)\n\u001b[1;32m   1165\u001b[0m     \u001b[38;5;28;01mexcept\u001b[39;00m \u001b[38;5;167;01mException\u001b[39;00m \u001b[38;5;28;01mas\u001b[39;00m e:\n\u001b[1;32m   1166\u001b[0m         \u001b[38;5;66;03m# At timeout and error, we manually check whether any worker has\u001b[39;00m\n\u001b[1;32m   1167\u001b[0m         \u001b[38;5;66;03m# failed. Note that this is the only mechanism for Windows to detect\u001b[39;00m\n\u001b[1;32m   1168\u001b[0m         \u001b[38;5;66;03m# worker failures.\u001b[39;00m\n",
      "File \u001b[0;32m~/.conda/envs/torch1_gpu_exp/lib/python3.9/multiprocessing/queues.py:113\u001b[0m, in \u001b[0;36mQueue.get\u001b[0;34m(self, block, timeout)\u001b[0m\n\u001b[1;32m    111\u001b[0m \u001b[38;5;28;01mif\u001b[39;00m block:\n\u001b[1;32m    112\u001b[0m     timeout \u001b[38;5;241m=\u001b[39m deadline \u001b[38;5;241m-\u001b[39m time\u001b[38;5;241m.\u001b[39mmonotonic()\n\u001b[0;32m--> 113\u001b[0m     \u001b[38;5;28;01mif\u001b[39;00m \u001b[38;5;129;01mnot\u001b[39;00m \u001b[38;5;28;43mself\u001b[39;49m\u001b[38;5;241;43m.\u001b[39;49m\u001b[43m_poll\u001b[49m\u001b[43m(\u001b[49m\u001b[43mtimeout\u001b[49m\u001b[43m)\u001b[49m:\n\u001b[1;32m    114\u001b[0m         \u001b[38;5;28;01mraise\u001b[39;00m Empty\n\u001b[1;32m    115\u001b[0m \u001b[38;5;28;01melif\u001b[39;00m \u001b[38;5;129;01mnot\u001b[39;00m \u001b[38;5;28mself\u001b[39m\u001b[38;5;241m.\u001b[39m_poll():\n",
      "File \u001b[0;32m~/.conda/envs/torch1_gpu_exp/lib/python3.9/multiprocessing/connection.py:262\u001b[0m, in \u001b[0;36m_ConnectionBase.poll\u001b[0;34m(self, timeout)\u001b[0m\n\u001b[1;32m    260\u001b[0m \u001b[38;5;28mself\u001b[39m\u001b[38;5;241m.\u001b[39m_check_closed()\n\u001b[1;32m    261\u001b[0m \u001b[38;5;28mself\u001b[39m\u001b[38;5;241m.\u001b[39m_check_readable()\n\u001b[0;32m--> 262\u001b[0m \u001b[38;5;28;01mreturn\u001b[39;00m \u001b[38;5;28;43mself\u001b[39;49m\u001b[38;5;241;43m.\u001b[39;49m\u001b[43m_poll\u001b[49m\u001b[43m(\u001b[49m\u001b[43mtimeout\u001b[49m\u001b[43m)\u001b[49m\n",
      "File \u001b[0;32m~/.conda/envs/torch1_gpu_exp/lib/python3.9/multiprocessing/connection.py:429\u001b[0m, in \u001b[0;36mConnection._poll\u001b[0;34m(self, timeout)\u001b[0m\n\u001b[1;32m    428\u001b[0m \u001b[38;5;28;01mdef\u001b[39;00m \u001b[38;5;21m_poll\u001b[39m(\u001b[38;5;28mself\u001b[39m, timeout):\n\u001b[0;32m--> 429\u001b[0m     r \u001b[38;5;241m=\u001b[39m \u001b[43mwait\u001b[49m\u001b[43m(\u001b[49m\u001b[43m[\u001b[49m\u001b[38;5;28;43mself\u001b[39;49m\u001b[43m]\u001b[49m\u001b[43m,\u001b[49m\u001b[43m \u001b[49m\u001b[43mtimeout\u001b[49m\u001b[43m)\u001b[49m\n\u001b[1;32m    430\u001b[0m     \u001b[38;5;28;01mreturn\u001b[39;00m \u001b[38;5;28mbool\u001b[39m(r)\n",
      "File \u001b[0;32m~/.conda/envs/torch1_gpu_exp/lib/python3.9/multiprocessing/connection.py:936\u001b[0m, in \u001b[0;36mwait\u001b[0;34m(object_list, timeout)\u001b[0m\n\u001b[1;32m    933\u001b[0m     deadline \u001b[38;5;241m=\u001b[39m time\u001b[38;5;241m.\u001b[39mmonotonic() \u001b[38;5;241m+\u001b[39m timeout\n\u001b[1;32m    935\u001b[0m \u001b[38;5;28;01mwhile\u001b[39;00m \u001b[38;5;28;01mTrue\u001b[39;00m:\n\u001b[0;32m--> 936\u001b[0m     ready \u001b[38;5;241m=\u001b[39m \u001b[43mselector\u001b[49m\u001b[38;5;241;43m.\u001b[39;49m\u001b[43mselect\u001b[49m\u001b[43m(\u001b[49m\u001b[43mtimeout\u001b[49m\u001b[43m)\u001b[49m\n\u001b[1;32m    937\u001b[0m     \u001b[38;5;28;01mif\u001b[39;00m ready:\n\u001b[1;32m    938\u001b[0m         \u001b[38;5;28;01mreturn\u001b[39;00m [key\u001b[38;5;241m.\u001b[39mfileobj \u001b[38;5;28;01mfor\u001b[39;00m (key, events) \u001b[38;5;129;01min\u001b[39;00m ready]\n",
      "File \u001b[0;32m~/.conda/envs/torch1_gpu_exp/lib/python3.9/selectors.py:416\u001b[0m, in \u001b[0;36m_PollLikeSelector.select\u001b[0;34m(self, timeout)\u001b[0m\n\u001b[1;32m    414\u001b[0m ready \u001b[38;5;241m=\u001b[39m []\n\u001b[1;32m    415\u001b[0m \u001b[38;5;28;01mtry\u001b[39;00m:\n\u001b[0;32m--> 416\u001b[0m     fd_event_list \u001b[38;5;241m=\u001b[39m \u001b[38;5;28;43mself\u001b[39;49m\u001b[38;5;241;43m.\u001b[39;49m\u001b[43m_selector\u001b[49m\u001b[38;5;241;43m.\u001b[39;49m\u001b[43mpoll\u001b[49m\u001b[43m(\u001b[49m\u001b[43mtimeout\u001b[49m\u001b[43m)\u001b[49m\n\u001b[1;32m    417\u001b[0m \u001b[38;5;28;01mexcept\u001b[39;00m \u001b[38;5;167;01mInterruptedError\u001b[39;00m:\n\u001b[1;32m    418\u001b[0m     \u001b[38;5;28;01mreturn\u001b[39;00m ready\n",
      "\u001b[0;31mKeyboardInterrupt\u001b[0m: "
     ]
    }
   ],
   "source": [
    "epochs = 100\n",
    "steps_per_epoch = len(train_dataloader)\n",
    "steps_per_test_epoch = len(test_dataloader)\n",
    "log_freq = 40\n",
    "\n",
    "losses = []\n",
    "test_losses = []\n",
    "\n",
    "predictor.cuda()\n",
    "\n",
    "for n in range(epochs):\n",
    "\n",
    "    predictor.train()\n",
    "\n",
    "    running_loss = 0.\n",
    "    log_loss = 0.\n",
    "    \n",
    "    print(f\"----STARTING EPOCH {n+1}----\")\n",
    "    for i, (X_, d_, y_) in enumerate(train_dataloader):\n",
    "\n",
    "        X_ = X_.cuda()\n",
    "        d_ = d_.cuda()\n",
    "        y_ = y_.cuda()\n",
    "        \n",
    "        optimizer.zero_grad()\n",
    "        y_hat = predictor(X_, d_)\n",
    "        loss = loss_fn(y_hat, y_.unsqueeze(-1))\n",
    "        loss.backward()\n",
    "        optimizer.step()\n",
    "\n",
    "        running_loss += loss.item()\n",
    "        log_loss += loss.item()\n",
    "\n",
    "        if (i+1)%log_freq == 0:\n",
    "            print(f\"Epoch {n+1}, step {i+1}, loss {log_loss/log_freq:.4f}.\")\n",
    "            log_loss = 0.\n",
    "\n",
    "    print(f\"Epoch {n+1}, loss {running_loss/steps_per_epoch:.4f}.\")\n",
    "    losses.append(running_loss/steps_per_epoch)\n",
    "    running_loss = 0.\n",
    "\n",
    "    predictor.eval()\n",
    "\n",
    "    running_loss = 0.\n",
    "    \n",
    "    for i, (X_, d_, y_) in enumerate(test_dataloader):\n",
    "\n",
    "        X_ = X_.cuda()\n",
    "        d_ = d_.cuda()\n",
    "        y_ = y_.cuda()\n",
    "        \n",
    "        y_hat = predictor(X_, d_)\n",
    "        loss = loss_fn(y_hat, y_.unsqueeze(-1))\n",
    "\n",
    "        running_loss += loss.item()\n",
    "\n",
    "    print(f\"Epoch {n+1}, val loss {running_loss/steps_per_test_epoch:.4f}.\")\n",
    "    test_losses.append(running_loss/steps_per_test_epoch)\n",
    "    running_loss = 0.\n",
    "        \n",
    "    "
   ]
  },
  {
   "cell_type": "code",
   "execution_count": null,
   "id": "93bc94d7-b1da-431e-95f8-65e6b0e00cd0",
   "metadata": {},
   "outputs": [],
   "source": []
  },
  {
   "cell_type": "code",
   "execution_count": null,
   "id": "26b95db1-ebe2-4ab9-9b18-94016cbafa25",
   "metadata": {},
   "outputs": [],
   "source": []
  }
 ],
 "metadata": {
  "kernelspec": {
   "display_name": "Python 3 (ipykernel)",
   "language": "python",
   "name": "python3"
  },
  "language_info": {
   "codemirror_mode": {
    "name": "ipython",
    "version": 3
   },
   "file_extension": ".py",
   "mimetype": "text/x-python",
   "name": "python",
   "nbconvert_exporter": "python",
   "pygments_lexer": "ipython3",
   "version": "3.9.15"
  }
 },
 "nbformat": 4,
 "nbformat_minor": 5
}
